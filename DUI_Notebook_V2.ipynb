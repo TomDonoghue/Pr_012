{
 "cells": [
  {
   "cell_type": "markdown",
   "metadata": {},
   "source": [
    "# DUI Analysis in the San Diego Area"
   ]
  },
  {
   "cell_type": "code",
   "execution_count": 489,
   "metadata": {
    "collapsed": false
   },
   "outputs": [],
   "source": [
    "# Import pandas, numpy, matplotlib\n",
    "import pandas as pd\n",
    "import numpy as np\n",
    "import matplotlib as mp\n",
    "import matplotlib.patches as mpatches\n",
    "import matplotlib.pyplot as plt\n",
    "from matplotlib.font_manager import FontProperties\n",
    "from pygeocoder import Geocoder\n",
    "from geopy.geocoders import Nominatim\n",
    "from geopy.distance import vincenty\n",
    "import moment\n",
    "\n"
   ]
  },
  {
   "cell_type": "markdown",
   "metadata": {},
   "source": [
    "# Cleaning DUI Arrests Data (2007-2013)\n",
    "\n",
    "The datafile 'incidents-100k.csv'shows all the police incidents in the San Diego area from 2007-2013. It conatins type of incident, date, and location. We will use this data to identify number of DUI arrests in the San Diego area.\n",
    "\n",
    "link:\n",
    "http://data.sandiegodata.org/de/dataset/clarinova_com-crime-incidents-casnd-7ba4-extract"
   ]
  },
  {
   "cell_type": "code",
   "execution_count": 323,
   "metadata": {
    "collapsed": false
   },
   "outputs": [],
   "source": [
    "# Pull the comprehensive police reported incidents file, dated from 2007 to 2013.\n",
    "incidents_180 = pd.read_csv('arrests_180_days.csv')\n",
    "incidents_180.dropna(inplace=True)\n",
    "#incidents_180.head(13)"
   ]
  },
  {
   "cell_type": "code",
   "execution_count": 324,
   "metadata": {
    "collapsed": false
   },
   "outputs": [],
   "source": [
    "#we want info on just DUI incidents\n",
    "dui_incidents_180 = incidents_180[incidents_180['Charge_Description_Orig'].str.contains(\"DUI\")]\n",
    "#df[df.name != 'Tina']\n",
    "dui_incidents_180 = dui_incidents_180[dui_incidents_180.agency == \"SAN DIEGO\"]"
   ]
  },
  {
   "cell_type": "code",
   "execution_count": 325,
   "metadata": {
    "collapsed": false
   },
   "outputs": [],
   "source": [
    "#lets geocode the addresses to get lon/lat\n"
   ]
  },
  {
   "cell_type": "markdown",
   "metadata": {},
   "source": [
    "# Cleaning DUI Crashes Data (2015-2017)"
   ]
  },
  {
   "cell_type": "code",
   "execution_count": 326,
   "metadata": {
    "collapsed": false
   },
   "outputs": [],
   "source": [
    "crashes15_17 = pd.read_csv('pd_collisions_datasd.csv')\n",
    "#crashes15_17.head(5)"
   ]
  },
  {
   "cell_type": "code",
   "execution_count": 327,
   "metadata": {
    "collapsed": false
   },
   "outputs": [],
   "source": [
    "#we want info on just DUI incidents\n",
    "dui_crashes15_17 = crashes15_17[crashes15_17['charge_desc']=='DUI ALCOHOL AND/OR DRUGS']\n",
    "#dui_crashes15_17.head(5)"
   ]
  },
  {
   "cell_type": "code",
   "execution_count": 328,
   "metadata": {
    "collapsed": false
   },
   "outputs": [],
   "source": [
    "#lets get only the data we would potentially use\n",
    "dui_crashes15_17 = dui_crashes15_17[['date_time','street_no','street_name','street_type','charge_desc']]\n",
    "#dui_crashes15_17"
   ]
  },
  {
   "cell_type": "code",
   "execution_count": 329,
   "metadata": {
    "collapsed": false
   },
   "outputs": [],
   "source": [
    "#all of the addresses are separated, lets combine them into a single string\n",
    "address = pd.Series(np.zeros(len(dui_crashes15_17)))\n",
    "for i in range(0, len(dui_crashes15_17)):\n",
    "    address[i] = (str(dui_crashes15_17['street_no'].iloc[i]) + \" \" +\n",
    "                  str(dui_crashes15_17['street_name'].iloc[i]) + \" \" +\n",
    "                  str(dui_crashes15_17['street_type'].iloc[i]))\n",
    "#address\n",
    "dui_crashes15_17 = dui_crashes15_17.assign(address = address.values)\n",
    "#2dui_crashes15_17\n",
    "#Now we got a single string as address\n"
   ]
  },
  {
   "cell_type": "code",
   "execution_count": 330,
   "metadata": {
    "collapsed": false
   },
   "outputs": [
    {
     "data": {
      "text/plain": [
       "134"
      ]
     },
     "execution_count": 330,
     "metadata": {},
     "output_type": "execute_result"
    }
   ],
   "source": [
    "#lets try parsing dates\n",
    "import dateparser\n",
    "for i in range(0, len(dui_crashes15_17)):\n",
    "    timestring = dui_crashes15_17.iloc[0]['date_time']\n",
    "    result = dateparser.parse(timestring)\n",
    "    if ((result.year < 2016) and (result.day < 9) and (result.month <12)):\n",
    "        dui_crashes15_17.drop(dui_crashes15_17.index[i])\n",
    "\n",
    "len(dui_crashes15_17)\n",
    "#dui_crashes15_17.head(5)"
   ]
  },
  {
   "cell_type": "code",
   "execution_count": 331,
   "metadata": {
    "collapsed": false
   },
   "outputs": [],
   "source": [
    "import time\n",
    "new_crashes = dui_crashes15_17.copy(deep=True)\n",
    "#new_crashes.head(5)"
   ]
  },
  {
   "cell_type": "code",
   "execution_count": 381,
   "metadata": {
    "collapsed": false
   },
   "outputs": [],
   "source": [
    "s = pd.Series(len(dui_crashes15_17), name = 'coordinates')\n",
    "temp_arr = np.zeros(len(dui_incidents_180),dtype = tuple)\n",
    "s = pd.Series(temp_arr)\n",
    "#dui_incidents_180\n",
    "#temp_arr\n",
    "#s1 = pd.Series(temp_arr, name = '180_coordinates')\n",
    "#print(s1[1])"
   ]
  },
  {
   "cell_type": "code",
   "execution_count": 384,
   "metadata": {
    "collapsed": false
   },
   "outputs": [
    {
     "name": "stdout",
     "output_type": "stream",
     "text": [
      "Geocoding data and writing to file\n",
      "trying to geocode on row 0 800 TURQUOISE STREET\n",
      "while\n",
      "try\n",
      "s[i]: (30.0206764, -90.10265509999999)\n",
      "trying to geocode on row 1 8400 WESTMORE ROAD\n",
      "while\n",
      "try\n",
      "s[i]: (32.9178621, -117.1426708)\n",
      "trying to geocode on row 2 3000 C STREET\n",
      "while\n",
      "try\n",
      "s[i]: (41.4580185, -96.4925694)\n",
      "trying to geocode on row 3 3400 COLLEGE AVENUE\n",
      "while\n",
      "try\n",
      "s[i]: (38.9062481, -90.13781209999999)\n",
      "trying to geocode on row 4 1600 C STREET\n",
      "while\n",
      "try\n",
      "s[i]: (36.077923, -102.519732)\n",
      "trying to geocode on row 5 300 DEEP DELL ROAD\n",
      "while\n",
      "try\n",
      "s[i]: (32.6972057, -117.032704)\n",
      "trying to geocode on row 6 3900 WABASH AVENUE\n",
      "while\n",
      "try\n",
      "s[i]: (39.329138, -76.6658593)\n",
      "trying to geocode on row 7 400 26TH STREET\n",
      "while\n",
      "try\n",
      "s[i]: (43.57653819999999, -83.8954009)\n",
      "trying to geocode on row 8 3900 05TH AVENUE\n",
      "while\n",
      "try\n",
      "s[i]: (32.7485686, -117.1607796)\n",
      "trying to geocode on row 9 4400 52ND STREET\n",
      "while\n",
      "try\n",
      "s[i]: (38.53423, -121.445897)\n",
      "trying to geocode on row 10 4500 OREGON STREET\n",
      "while\n",
      "try\n",
      "s[i]: (32.7591577, -117.1351475)\n",
      "trying to geocode on row 11 5900 LINDA VISTA ROAD\n",
      "while\n",
      "try\n",
      "s[i]: (32.7702949, -117.1882813)\n",
      "trying to geocode on row 12 1400 UNIVERSITY AVENUE\n",
      "while\n",
      "try\n",
      "except\n",
      "while\n",
      "try\n",
      "s[i]: (33.9753646, -117.341768)\n",
      "trying to geocode on row 13 2300 FAIRMOUNT AVENUE\n",
      "while\n",
      "try\n",
      "s[i]: (39.9671862, -75.17572530000001)\n",
      "trying to geocode on row 14 3500 SPORTS ARENA BOULEVARD\n",
      "while\n",
      "try\n",
      "s[i]: (32.7553041, -117.2122211)\n",
      "trying to geocode on row 15 500 MARKET STREET\n",
      "while\n",
      "try\n",
      "s[i]: (43.0814714, -70.763206)\n",
      "trying to geocode on row 16 5600 DOROTHY DRIVE\n",
      "while\n",
      "try\n",
      "s[i]: (32.7690071, -117.0741212)\n",
      "trying to geocode on row 17 3700 ROSECRANS STREET\n",
      "while\n",
      "try\n",
      "s[i]: (32.7517781, -117.2044046)\n",
      "trying to geocode on row 18 0 EUCLID AVENUE\n",
      "while\n",
      "try\n",
      "s[i]: (41.867082, -87.970246)\n",
      "trying to geocode on row 19 3500 SUNSET LANE\n",
      "while\n",
      "try\n",
      "s[i]: (34.1684545, -119.2302717)\n",
      "trying to geocode on row 20 3700 46TH STREET\n",
      "while\n",
      "try\n",
      "s[i]: (29.9853128, -90.162842)\n",
      "trying to geocode on row 21 600 J STREET\n",
      "while\n",
      "try\n",
      "s[i]: (38.581538, -121.4986203)\n",
      "trying to geocode on row 22 500 07TH AVENUE\n",
      "while\n",
      "try\n",
      "s[i]: (26.1126673, -80.14841849999999)\n",
      "trying to geocode on row 23 4700 ELSA ROAD\n",
      "while\n",
      "try\n",
      "s[i]: (32.7840621, -117.0939505)\n",
      "trying to geocode on row 24 13500 LOPELIA MEADOWS PLACE\n",
      "while\n",
      "try\n",
      "s[i]: (32.9672249, -117.1838001)\n",
      "trying to geocode on row 25 5400 OLVERA AVENUE\n",
      "while\n",
      "try\n",
      "s[i]: (32.6987666, -117.079733)\n",
      "trying to geocode on row 26 2100 CRANDALL DRIVE\n",
      "while\n",
      "try\n",
      "s[i]: (32.7815314, -117.1662195)\n",
      "trying to geocode on row 27 5900 ALBEMARLE STREET\n",
      "while\n",
      "try\n",
      "except\n",
      "while\n",
      "try\n",
      "s[i]: (32.6771417, -117.0646958)\n",
      "trying to geocode on row 28 2400 WEST MISSION BAY DRIVE\n",
      "while\n",
      "try\n",
      "s[i]: (32.7596683, -117.2272997)\n",
      "trying to geocode on row 29 1400 MARKET STREET\n",
      "while\n",
      "try\n",
      "s[i]: (35.037261, -85.30619779999999)\n",
      "trying to geocode on row 30 2800 TORREY PINES SCENIC DRIVE\n",
      "while\n",
      "try\n",
      "s[i]: (32.8898837, -117.2511938)\n",
      "trying to geocode on row 31 1100 GARNET AVENUE\n",
      "while\n",
      "try\n",
      "s[i]: (31.8615699, -102.3587)\n",
      "trying to geocode on row 32 1300 IMPERIAL AVENUE\n",
      "while\n",
      "try\n",
      "s[i]: (32.7062905, -117.1527961)\n",
      "trying to geocode on row 33 6100 UNIVERSITY AVENUE\n",
      "while\n",
      "try\n",
      "s[i]: (32.75293190000001, -117.0644073)\n",
      "trying to geocode on row 34 6100 UNIVERSITY AVENUE\n",
      "while\n",
      "try\n",
      "s[i]: (32.75293190000001, -117.0644073)\n",
      "trying to geocode on row 35 400 25TH STREET\n",
      "while\n",
      "try\n",
      "s[i]: (40.7477857, -74.0008087)\n",
      "trying to geocode on row 36 600 BROADWAY  \n",
      "while\n",
      "try\n",
      "s[i]: (40.7250231, -73.9965204)\n",
      "trying to geocode on row 37 3000 SUNCREST DRIVE\n",
      "while\n",
      "try\n",
      "s[i]: (32.2637543, -90.2607925)\n",
      "trying to geocode on row 38 1500 HOTEL CIRCLE SOUTH  \n",
      "while\n",
      "try\n",
      "except\n",
      "while\n",
      "try\n",
      "s[i]: (32.7596637, -117.1682725)\n",
      "trying to geocode on row 39 4600 52ND STREET\n",
      "while\n",
      "try\n",
      "s[i]: (42.58873699999999, -87.864386)\n",
      "trying to geocode on row 40 4200 OREGON STREET\n",
      "while\n",
      "try\n",
      "s[i]: (43.9604155, -88.54342)\n",
      "trying to geocode on row 41 4700 UTAH STREET\n",
      "while\n",
      "try\n",
      "s[i]: (32.7628975, -117.1326806)\n",
      "trying to geocode on row 42 4100 NORMAL STREET\n",
      "while\n",
      "try\n",
      "s[i]: (32.75460899999999, -117.1478181)\n",
      "trying to geocode on row 43 4400 UTAH STREET\n",
      "while\n",
      "try\n",
      "s[i]: (32.7573054, -117.1326618)\n",
      "trying to geocode on row 44 7000 FRIARS ROAD\n",
      "while\n",
      "try\n",
      "s[i]: (32.7693896, -117.1701059)\n",
      "trying to geocode on row 45 4800 WEST POINT LOMA BOULEVARD\n",
      "while\n",
      "try\n",
      "s[i]: (32.7509905, -117.2423477)\n",
      "trying to geocode on row 46 0 62ND STREET\n",
      "while\n",
      "try\n",
      "s[i]: (42.41925810000001, -86.1484591)\n",
      "trying to geocode on row 47 3400 PARK BOULEVARD\n",
      "while\n",
      "try\n",
      "s[i]: (37.8034116, -122.2345917)\n",
      "trying to geocode on row 48 7500 LINDA VISTA ROAD\n",
      "while\n",
      "try\n",
      "except\n",
      "while\n",
      "try\n",
      "s[i]: (32.7985248, -117.1595512)\n",
      "trying to geocode on row 49 300 15TH STREET\n",
      "while\n",
      "try\n",
      "s[i]: (40.663932, -73.986569)\n",
      "trying to geocode on row 50 1500 PALM AVENUE\n",
      "while\n",
      "try\n",
      "s[i]: (34.0818279, -118.0972291)\n",
      "trying to geocode on row 51 1600 BROADWAY  \n",
      "while\n",
      "try\n",
      "s[i]: (40.7601777, -73.9843051)\n",
      "trying to geocode on row 52 4600 IMPERIAL AVENUE\n",
      "while\n",
      "try\n",
      "s[i]: (32.7041451, -117.0962972)\n",
      "trying to geocode on row 53 4600 IMPERIAL AVENUE\n",
      "while\n",
      "try\n",
      "s[i]: (32.7041451, -117.0962972)\n",
      "trying to geocode on row 54 5000 IMPERIAL AVENUE\n",
      "while\n",
      "try\n",
      "s[i]: (32.7041356, -117.0865278)\n",
      "trying to geocode on row 55 3000 30TH STREET\n",
      "while\n",
      "try\n",
      "s[i]: (41.622183, -93.659116)\n",
      "trying to geocode on row 56 600 30TH STREET\n",
      "while\n",
      "try\n",
      "s[i]: (33.897595, -118.4095348)\n",
      "trying to geocode on row 57 7100 MISSION GORGE ROAD\n",
      "while\n",
      "try\n",
      "s[i]: (32.8023492, -117.0887415)\n",
      "trying to geocode on row 58 1700 LONJA WAY\n",
      "while\n",
      "try\n",
      "except\n",
      "while\n",
      "try\n",
      "s[i]: (32.5642029, -117.0657874)\n",
      "trying to geocode on row 59 2400 PARK BOULEVARD\n",
      "while\n",
      "try\n",
      "s[i]: (37.8016348, -122.2436903)\n",
      "trying to geocode on row 60 0 63RD STREET\n",
      "while\n",
      "try\n",
      "s[i]: (40.78707379999999, -74.00390279999999)\n",
      "trying to geocode on row 61 2600 MISSION VILLAGE DRIVE\n",
      "while\n",
      "try\n",
      "s[i]: (32.7927359, -117.1228297)\n",
      "trying to geocode on row 62 1000 COLUMBIA STREET\n",
      "while\n",
      "try\n",
      "s[i]: (42.515444, -92.342333)\n",
      "trying to geocode on row 63 7800 WESTBURY AVENUE\n",
      "while\n",
      "try\n",
      "s[i]: (32.9206579, -117.1526284)\n",
      "trying to geocode on row 64 4400 CLAIREMONT DRIVE\n",
      "while\n",
      "try\n",
      "s[i]: (32.8219821, -117.2051869)\n",
      "trying to geocode on row 65 8200 MIRA MESA BOULEVARD\n",
      "while\n",
      "try\n",
      "s[i]: (32.9127202, -117.1467932)\n",
      "trying to geocode on row 66 6500 ALVARADO COURT\n",
      "while\n",
      "try\n",
      "s[i]: (32.7770775, -117.0621601)\n",
      "trying to geocode on row 67 2400 G STREET\n",
      "while\n",
      "try\n",
      "s[i]: (47.2411142, -122.4249299)\n",
      "trying to geocode on row 68 400 PENNSYLVANIA AVENUE\n",
      "while\n",
      "try\n",
      "s[i]: (32.0630035, -81.0572033)\n",
      "trying to geocode on row 69 4600 TEXAS STREET\n",
      "while\n",
      "try\n",
      "s[i]: (32.7609959, -117.1389137)\n",
      "trying to geocode on row 70 2300 SAN DIEGO AVENUE\n",
      "while\n",
      "try\n",
      "s[i]: (31.787283, -106.4707797)\n",
      "trying to geocode on row 71 4300 EXECUTIVE DRIVE\n",
      "while\n",
      "try\n",
      "s[i]: (32.8751046, -117.2131213)\n",
      "trying to geocode on row 72 2100 GRAND AVENUE\n",
      "while\n",
      "try\n",
      "s[i]: (44.939804, -93.18935499999999)\n",
      "trying to geocode on row 73 5300 FAIRMOUNT AVENUE\n",
      "while\n",
      "try\n",
      "s[i]: (41.7907309, -88.0017913)\n",
      "trying to geocode on row 74 4200 BONILLO DRIVE\n",
      "while\n",
      "try\n",
      "s[i]: (32.7542827, -117.0599736)\n",
      "trying to geocode on row 75 2400 HOTEL CIRCLE NORTH  \n",
      "while\n",
      "try\n",
      "s[i]: (44.0527886, -70.2757974)\n",
      "trying to geocode on row 76 3700 CLAIREMONT MESA BOULEVARD\n",
      "while\n",
      "try\n",
      "except\n",
      "while\n",
      "try\n",
      "s[i]: (32.827765, -117.2077309)\n",
      "trying to geocode on row 77 4000 43RD STREET\n",
      "while\n",
      "try\n",
      "s[i]: (38.53812300000001, -121.456794)\n",
      "trying to geocode on row 78 0 NIMITZ BOULEVARD\n",
      "while\n",
      "try\n",
      "s[i]: (32.7392185, -117.2313564)\n",
      "trying to geocode on row 79 4400 ARAGON DRIVE\n",
      "while\n",
      "try\n",
      "s[i]: (32.7575631, -117.0557251)\n",
      "trying to geocode on row 80 4300 LA JOLLA VILLAGE DRIVE\n",
      "while\n",
      "try\n",
      "s[i]: (32.8726694, -117.2139278)\n",
      "trying to geocode on row 81 1700 06TH AVENUE\n",
      "while\n",
      "try\n",
      "s[i]: (33.4026413, -86.95875529999999)\n",
      "trying to geocode on row 82 800 04TH AVENUE\n",
      "while\n",
      "try\n",
      "s[i]: (40.3261964, -79.3048951)\n",
      "trying to geocode on row 83 6700 WINONA AVENUE\n",
      "while\n",
      "try\n",
      "s[i]: (32.7943235, -117.0862113)\n",
      "trying to geocode on row 84 7700 FRIARS ROAD\n",
      "while\n",
      "try\n",
      "s[i]: (32.7739945, -117.1563112)\n",
      "trying to geocode on row 85 2800 MAIN STREET\n",
      "while\n",
      "try\n",
      "s[i]: (42.9429242, -78.8356439)\n",
      "trying to geocode on row 86 4500 VOLTAIRE STREET\n",
      "while\n",
      "try\n",
      "except\n",
      "while\n",
      "try\n",
      "s[i]: (39.1261476, -119.7763133)\n",
      "trying to geocode on row 87 400 HOTEL CIRCLE SOUTH  \n",
      "while\n",
      "try\n",
      "s[i]: (44.1172456, -70.2699492)\n",
      "trying to geocode on row 88 0 CARMEL CREEK ROAD\n",
      "while\n",
      "try\n",
      "s[i]: (32.9373845, -117.2292627)\n",
      "trying to geocode on row 89 4800 HILLTOP DRIVE\n",
      "while\n",
      "try\n",
      "s[i]: (37.97858799999999, -122.3046725)\n",
      "trying to geocode on row 90 3700 CORONA ORIENTE ROAD\n",
      "while\n",
      "try\n",
      "s[i]: (32.7890784, -117.2336748)\n",
      "trying to geocode on row 91 4200 BAYARD STREET\n",
      "while\n",
      "try\n",
      "s[i]: (32.7922256, -117.252185)\n",
      "trying to geocode on row 92 4300 INGRAHAM STREET\n",
      "while\n",
      "try\n",
      "s[i]: (32.7969088, -117.2399572)\n",
      "trying to geocode on row 93 500 14TH STREET\n",
      "while\n",
      "try\n",
      "s[i]: (25.7852593, -80.13328849999999)\n",
      "trying to geocode on row 94 3200 MARKET STREET\n",
      "while\n",
      "try\n",
      "s[i]: (41.0670431, -80.661478)\n",
      "trying to geocode on row 95 5600 SANTA MARGARITA STREET\n",
      "while\n",
      "try\n",
      "s[i]: (32.7062308, -117.0748476)\n",
      "trying to geocode on row 96 12800 EL CAMINO REAL  \n",
      "while\n",
      "try\n",
      "except\n"
     ]
    },
    {
     "ename": "KeyboardInterrupt",
     "evalue": "",
     "output_type": "error",
     "traceback": [
      "\u001b[0;31m---------------------------------------------------------------------------\u001b[0m",
      "\u001b[0;31mGeocoderError\u001b[0m                             Traceback (most recent call last)",
      "\u001b[0;32m<ipython-input-384-e05904032e61>\u001b[0m in \u001b[0;36m<module>\u001b[0;34m()\u001b[0m\n\u001b[1;32m      8\u001b[0m             \u001b[0mprint\u001b[0m\u001b[0;34m(\u001b[0m\u001b[0;34m\"try\"\u001b[0m\u001b[0;34m)\u001b[0m\u001b[0;34m\u001b[0m\u001b[0m\n\u001b[0;32m----> 9\u001b[0;31m             \u001b[0mx\u001b[0m\u001b[0;34m,\u001b[0m\u001b[0my\u001b[0m \u001b[0;34m=\u001b[0m \u001b[0mGeocoder\u001b[0m\u001b[0;34m.\u001b[0m\u001b[0mgeocode\u001b[0m\u001b[0;34m(\u001b[0m\u001b[0mdui_crashes15_17\u001b[0m\u001b[0;34m.\u001b[0m\u001b[0miloc\u001b[0m\u001b[0;34m[\u001b[0m\u001b[0mi\u001b[0m\u001b[0;34m]\u001b[0m\u001b[0;34m[\u001b[0m\u001b[0;34m'address'\u001b[0m\u001b[0;34m]\u001b[0m\u001b[0;34m)\u001b[0m\u001b[0;34m.\u001b[0m\u001b[0mcoordinates\u001b[0m\u001b[0;34m\u001b[0m\u001b[0m\n\u001b[0m\u001b[1;32m     10\u001b[0m             \u001b[0ms\u001b[0m\u001b[0;34m[\u001b[0m\u001b[0mi\u001b[0m\u001b[0;34m]\u001b[0m \u001b[0;34m=\u001b[0m \u001b[0;34m(\u001b[0m\u001b[0mx\u001b[0m\u001b[0;34m,\u001b[0m\u001b[0my\u001b[0m\u001b[0;34m)\u001b[0m\u001b[0;34m\u001b[0m\u001b[0m\n",
      "\u001b[0;32m/Users/skylertaylor/anaconda/lib/python3.6/site-packages/pygeocoder.py\u001b[0m in \u001b[0;36mgeocode\u001b[0;34m(self, address, sensor, bounds, region, language, components)\u001b[0m\n\u001b[1;32m    128\u001b[0m         \u001b[0;32melse\u001b[0m\u001b[0;34m:\u001b[0m\u001b[0;34m\u001b[0m\u001b[0m\n\u001b[0;32m--> 129\u001b[0;31m             \u001b[0;32mreturn\u001b[0m \u001b[0mGeocoderResult\u001b[0m\u001b[0;34m(\u001b[0m\u001b[0mGeocoder\u001b[0m\u001b[0;34m.\u001b[0m\u001b[0mget_data\u001b[0m\u001b[0;34m(\u001b[0m\u001b[0mparams\u001b[0m\u001b[0;34m=\u001b[0m\u001b[0mparams\u001b[0m\u001b[0;34m)\u001b[0m\u001b[0;34m)\u001b[0m\u001b[0;34m\u001b[0m\u001b[0m\n\u001b[0m\u001b[1;32m    130\u001b[0m \u001b[0;34m\u001b[0m\u001b[0m\n",
      "\u001b[0;32m/Users/skylertaylor/anaconda/lib/python3.6/site-packages/pygeocoder.py\u001b[0m in \u001b[0;36mget_data\u001b[0;34m(self, params)\u001b[0m\n\u001b[1;32m    211\u001b[0m         \u001b[0;32mif\u001b[0m \u001b[0mresponse_json\u001b[0m\u001b[0;34m[\u001b[0m\u001b[0;34m'status'\u001b[0m\u001b[0;34m]\u001b[0m \u001b[0;34m!=\u001b[0m \u001b[0mGeocoderError\u001b[0m\u001b[0;34m.\u001b[0m\u001b[0mG_GEO_OK\u001b[0m\u001b[0;34m:\u001b[0m\u001b[0;34m\u001b[0m\u001b[0m\n\u001b[0;32m--> 212\u001b[0;31m             \u001b[0;32mraise\u001b[0m \u001b[0mGeocoderError\u001b[0m\u001b[0;34m(\u001b[0m\u001b[0mresponse_json\u001b[0m\u001b[0;34m[\u001b[0m\u001b[0;34m'status'\u001b[0m\u001b[0;34m]\u001b[0m\u001b[0;34m,\u001b[0m \u001b[0mresponse\u001b[0m\u001b[0;34m.\u001b[0m\u001b[0murl\u001b[0m\u001b[0;34m)\u001b[0m\u001b[0;34m\u001b[0m\u001b[0m\n\u001b[0m\u001b[1;32m    213\u001b[0m         \u001b[0;32mreturn\u001b[0m \u001b[0mresponse_json\u001b[0m\u001b[0;34m[\u001b[0m\u001b[0;34m'results'\u001b[0m\u001b[0;34m]\u001b[0m\u001b[0;34m\u001b[0m\u001b[0m\n",
      "\u001b[0;31mGeocoderError\u001b[0m: Error OVER_QUERY_LIMIT\nQuery: https://maps.google.com/maps/api/geocode/json?address=12800+EL+CAMINO+REAL++&sensor=false&bounds=&region=&language=&components=",
      "\nDuring handling of the above exception, another exception occurred:\n",
      "\u001b[0;31mKeyboardInterrupt\u001b[0m                         Traceback (most recent call last)",
      "\u001b[0;32m<ipython-input-384-e05904032e61>\u001b[0m in \u001b[0;36m<module>\u001b[0;34m()\u001b[0m\n\u001b[1;32m     12\u001b[0m         \u001b[0;32mexcept\u001b[0m\u001b[0;34m:\u001b[0m\u001b[0;34m\u001b[0m\u001b[0m\n\u001b[1;32m     13\u001b[0m             \u001b[0mprint\u001b[0m\u001b[0;34m(\u001b[0m\u001b[0;34m\"except\"\u001b[0m\u001b[0;34m)\u001b[0m\u001b[0;34m\u001b[0m\u001b[0m\n\u001b[0;32m---> 14\u001b[0;31m             \u001b[0mtime\u001b[0m\u001b[0;34m.\u001b[0m\u001b[0msleep\u001b[0m\u001b[0;34m(\u001b[0m\u001b[0;36m5\u001b[0m\u001b[0;34m)\u001b[0m\u001b[0;34m\u001b[0m\u001b[0m\n\u001b[0m\u001b[1;32m     15\u001b[0m             \u001b[0;32mcontinue\u001b[0m\u001b[0;34m\u001b[0m\u001b[0m\n\u001b[1;32m     16\u001b[0m         \u001b[0;32mbreak\u001b[0m\u001b[0;34m\u001b[0m\u001b[0m\n",
      "\u001b[0;31mKeyboardInterrupt\u001b[0m: "
     ]
    }
   ],
   "source": [
    "#Next we should use geocoding to get lon/lat of the addresses\n",
    "print(\"Geocoding data and writing to file\")\n",
    "\"\"\"for i in range(0, len(dui_crashes15_17)): \n",
    "    print(\"trying to geocode on row\",i,dui_crashes15_17.iloc[i]['address'])\n",
    "    while(True):\n",
    "        print(\"while\")\n",
    "        try:\n",
    "            print(\"try\")\n",
    "            x,y = Geocoder.geocode(dui_crashes15_17.iloc[i]['address']).coordinates\n",
    "            s[i] = (x,y)\n",
    "            print(\"s[i]:\",s[i])\n",
    "        except:\n",
    "            print(\"except\")\n",
    "            time.sleep(5)\n",
    "            continue\n",
    "        break\n",
    "    \n",
    "\n",
    "\n",
    "for i in range(0,len(dui_incidents_180)):\n",
    "    print(\"trying to geocode on row\",i,\":\",dui_incidents_180.iloc[i]['BLOCK_ADDRESS'])\n",
    "    print(\"outer\")\n",
    "    while(True):\n",
    "        print(\"while\")\n",
    "        try:\n",
    "            print(\"try\")\n",
    "            x,y = Geocoder.geocode(dui_incidents_180.iloc[i]['BLOCK_ADDRESS']).coordinates\n",
    "            s1[i] = (x,y)\n",
    "            s1.to_csv(\"dui_incidents_180.csv\")\n",
    "            print(\"s1\",s1[i])\n",
    "        except:\n",
    "            print(\"except\")\n",
    "            time.sleep(5)\n",
    "            continue\n",
    "        break\n",
    "\"\"\"\n",
    "#s1[0] = (1,2)\n",
    "#s1[1] = (1,1)\n",
    "#s1[2] = (3,1)\n",
    "# Save new dataframe in file \"coordinate_crashes.csv\"\n",
    "# dui_crashes15_17['coordinates'] = s.to_frame()\n",
    "# new_crashes.to_csv('coordinate_crashes.csv', sep=',')\n",
    "# crashes = pd.read_csv('coordinate_crashes.csv')\n",
    "#dui_incidents_180['coordinates'] = s1.to_frame()\n",
    "#dui_incidents_180['coordinates'].to_csv(\"dui_incidents_180.csv\",sep=',')\n"
   ]
  },
  {
   "cell_type": "code",
   "execution_count": 383,
   "metadata": {
    "collapsed": false
   },
   "outputs": [],
   "source": [
    "s.to_csv('crash_coordinates.csv')\n",
    "temp_df = pd.read_csv('dui_incidents_180.csv')\n",
    "\n",
    "#for i in range(0,455):\n",
    "#    dui_incidents_180.set_value(i,'coordinates',temp_df.iloc[i]['coordinates'])\n",
    "#dui_incidents_180.dropna(inplace=True)\n",
    "\n",
    "#dui_incidents_180['coordinates'] = pd.read_csv(\"dui_incidents_180.csv\")"
   ]
  },
  {
   "cell_type": "markdown",
   "metadata": {},
   "source": [
    "# Cleaning Alchohol Permits Data"
   ]
  },
  {
   "cell_type": "code",
   "execution_count": null,
   "metadata": {
    "collapsed": false
   },
   "outputs": [],
   "source": [
    "alc_permits = pd.read_csv('abs-licenses-casnd.csv')\n",
    "crash_coordinates_s = pd.read_csv(\"crash_coordinates.csv\")\n",
    "#alc_permits.head(5)\n",
    "crash_coordinates_s.head(5)"
   ]
  },
  {
   "cell_type": "code",
   "execution_count": 340,
   "metadata": {
    "collapsed": false
   },
   "outputs": [],
   "source": [
    "# Reduce to pertinent data columns\n",
    "alc_permits = alc_permits[['last_date', 'status', 'issuedate', 'exprdate', 'lon', 'lat', 'business']]"
   ]
  },
  {
   "cell_type": "code",
   "execution_count": 341,
   "metadata": {
    "collapsed": false
   },
   "outputs": [
    {
     "data": {
      "text/html": [
       "<div>\n",
       "<table border=\"1\" class=\"dataframe\">\n",
       "  <thead>\n",
       "    <tr style=\"text-align: right;\">\n",
       "      <th></th>\n",
       "      <th>last_date</th>\n",
       "      <th>status</th>\n",
       "      <th>issuedate</th>\n",
       "      <th>exprdate</th>\n",
       "      <th>lon</th>\n",
       "      <th>lat</th>\n",
       "      <th>business</th>\n",
       "    </tr>\n",
       "  </thead>\n",
       "  <tbody>\n",
       "    <tr>\n",
       "      <th>0</th>\n",
       "      <td>2013-07-09T</td>\n",
       "      <td>ACTIVE</td>\n",
       "      <td>1951-07-20T</td>\n",
       "      <td>2014-03-31T</td>\n",
       "      <td>-117.248361</td>\n",
       "      <td>32.777847</td>\n",
       "      <td>NaN</td>\n",
       "    </tr>\n",
       "    <tr>\n",
       "      <th>1</th>\n",
       "      <td>2013-07-09T</td>\n",
       "      <td>ACTIVE</td>\n",
       "      <td>1978-06-05T</td>\n",
       "      <td>2014-04-30T</td>\n",
       "      <td>-117.123423</td>\n",
       "      <td>32.916755</td>\n",
       "      <td>Capriccio Italian Restaurant</td>\n",
       "    </tr>\n",
       "    <tr>\n",
       "      <th>2</th>\n",
       "      <td>2013-07-09T</td>\n",
       "      <td>ACTIVE</td>\n",
       "      <td>1964-08-18T</td>\n",
       "      <td>2013-09-30T</td>\n",
       "      <td>-117.113723</td>\n",
       "      <td>32.701524</td>\n",
       "      <td>Ocean View Liquor</td>\n",
       "    </tr>\n",
       "    <tr>\n",
       "      <th>3</th>\n",
       "      <td>2013-07-09T</td>\n",
       "      <td>ACTIVE</td>\n",
       "      <td>1978-01-01T</td>\n",
       "      <td>2013-08-31T</td>\n",
       "      <td>-117.117612</td>\n",
       "      <td>32.749524</td>\n",
       "      <td>Market Place The</td>\n",
       "    </tr>\n",
       "    <tr>\n",
       "      <th>4</th>\n",
       "      <td>2013-07-09T</td>\n",
       "      <td>ACTIVE</td>\n",
       "      <td>1977-05-18T</td>\n",
       "      <td>2014-03-31T</td>\n",
       "      <td>-117.236281</td>\n",
       "      <td>32.800508</td>\n",
       "      <td>Silver Fox Associates Inc</td>\n",
       "    </tr>\n",
       "  </tbody>\n",
       "</table>\n",
       "</div>"
      ],
      "text/plain": [
       "     last_date  status    issuedate     exprdate         lon        lat  \\\n",
       "0  2013-07-09T  ACTIVE  1951-07-20T  2014-03-31T -117.248361  32.777847   \n",
       "1  2013-07-09T  ACTIVE  1978-06-05T  2014-04-30T -117.123423  32.916755   \n",
       "2  2013-07-09T  ACTIVE  1964-08-18T  2013-09-30T -117.113723  32.701524   \n",
       "3  2013-07-09T  ACTIVE  1978-01-01T  2013-08-31T -117.117612  32.749524   \n",
       "4  2013-07-09T  ACTIVE  1977-05-18T  2014-03-31T -117.236281  32.800508   \n",
       "\n",
       "                       business  \n",
       "0                           NaN  \n",
       "1  Capriccio Italian Restaurant  \n",
       "2             Ocean View Liquor  \n",
       "3              Market Place The  \n",
       "4     Silver Fox Associates Inc  "
      ]
     },
     "execution_count": 341,
     "metadata": {},
     "output_type": "execute_result"
    }
   ],
   "source": [
    "alc_permits.head(5)"
   ]
  },
  {
   "cell_type": "code",
   "execution_count": 342,
   "metadata": {
    "collapsed": false
   },
   "outputs": [],
   "source": [
    "# Filter out data that may be outside the San Diego area.\n",
    "# Limit range so that any outliers or typos in data are eliminated\n",
    "\n",
    "alc_permits = alc_permits.drop(alc_permits[alc_permits['lon'] < -120].index)\n",
    "alc_permits.dropna(inplace = True)"
   ]
  },
  {
   "cell_type": "code",
   "execution_count": 343,
   "metadata": {
    "collapsed": false
   },
   "outputs": [
    {
     "data": {
      "image/png": "[encoded data removed]",
      "text/plain": [
       "<matplotlib.figure.Figure at 0x11054f6a0>"
      ]
     },
     "metadata": {},
     "output_type": "display_data"
    }
   ],
   "source": [
    "#Alcohol Permits SCATTER PLOTTING\n",
    "\n",
    "coords = np.zeros(len(alc_permits), dtype=('2float'))\n",
    "\n",
    "for i in range(0, len(alc_permits)):\n",
    "    alc_lat = float(alc_permits['lat'].iloc[i])\n",
    "    alc_lng = float(alc_permits['lon'].iloc[i])\n",
    "    coords[i] = (alc_lat, alc_lng)\n",
    "\n",
    "plt.scatter(coords[:,0], coords[:,1], c='red')\n",
    "# Turn on the grid\n",
    "plt.grid(linewidth='.5')\n",
    "plt.show()"
   ]
  },
  {
   "cell_type": "markdown",
   "metadata": {},
   "source": [
    "# Visualizing Our Data"
   ]
  },
  {
   "cell_type": "code",
   "execution_count": 344,
   "metadata": {
    "collapsed": false,
    "scrolled": false
   },
   "outputs": [
    {
     "data": {
      "text/plain": [
       "'\\nfor i in range(0, len(dui_incidents_180)):\\n    #print(\"break\")\\n    while(True):\\n        try:\\n            #print(\"try\")\\n            dui_lat,dui_lng = Geocoder.geocode(dui_incidents_180.iloc[i][\\'BLOCK_ADDRESS\\']).coordinates\\n            coords[i] = (dui_lat, dui_lng)\\n        except:\\n            #print(\"except\")\\n            time.sleep(5)\\n            continue\\n        break\\n\\nplt.scatter(coords[:,0], coords[:,1], c=\\'blue\\')\\n# Turn on the grid\\nplt.grid(linewidth=\\'0.5\\')\\nplt.show()\\n\\n'"
      ]
     },
     "execution_count": 344,
     "metadata": {},
     "output_type": "execute_result"
    }
   ],
   "source": [
    "#DUI Arrests SCATTER PLOTTING\n",
    "\n",
    "coords = np.zeros(len(dui_incidents_180), dtype=('2float'))\n",
    "\"\"\"\n",
    "for i in range(0, len(dui_incidents_180)):\n",
    "    #print(\"break\")\n",
    "    while(True):\n",
    "        try:\n",
    "            #print(\"try\")\n",
    "            dui_lat,dui_lng = Geocoder.geocode(dui_incidents_180.iloc[i]['BLOCK_ADDRESS']).coordinates\n",
    "            coords[i] = (dui_lat, dui_lng)\n",
    "        except:\n",
    "            #print(\"except\")\n",
    "            time.sleep(5)\n",
    "            continue\n",
    "        break\n",
    "\n",
    "plt.scatter(coords[:,0], coords[:,1], c='blue')\n",
    "# Turn on the grid\n",
    "plt.grid(linewidth='0.5')\n",
    "plt.show()\n",
    "\n",
    "\"\"\""
   ]
  },
  {
   "cell_type": "code",
   "execution_count": 345,
   "metadata": {
    "collapsed": true
   },
   "outputs": [],
   "source": [
    "from sklearn import datasets\n",
    "from sklearn.cluster import KMeans\n",
    "from scipy.cluster.vq import whiten\n",
    "from scipy.cluster.vq import kmeans2, whiten"
   ]
  },
  {
   "cell_type": "code",
   "execution_count": 514,
   "metadata": {
    "collapsed": false
   },
   "outputs": [
    {
     "name": "stdout",
     "output_type": "stream",
     "text": [
      "Length of dui_incidents7_13 dataframe:  4480\n",
      "Centroids:  [[  179.20048729 -1077.98487057]\n",
      " [  179.1356518  -1076.58465373]\n",
      " [  181.07001695 -1078.37879902]]\n"
     ]
    },
    {
     "data": {
      "image/png": "[encoded data removed]",
      "text/plain": [
       "<matplotlib.figure.Figure at 0x111ab0828>"
      ]
     },
     "metadata": {},
     "output_type": "display_data"
    }
   ],
   "source": [
    "# 1. DUI CLUSTERING\n",
    "# K-means clustering of hottest parking meters\n",
    "# Determine whether bus and meter clusters have similar epicenters\n",
    "\n",
    "# First cluster DUI arrests coordinates.\n",
    "#coords = np.zeros(len(dui_incidents7_13), dtype=('2float'))\n",
    "\n",
    "#for i in range(0, len(dui_incidents7_13)):\n",
    "#    dui_lat = float(dui_incidents7_13['lat'].iloc[i])\n",
    "#    dui_lng = float(dui_incidents7_13['lon'].iloc[i])\n",
    "#    coords[i] = (dui_lat, dui_lng)\n",
    "\n",
    "print(\"Length of dui_incidents7_13 dataframe: \",len(coords))\n",
    "\n",
    "x, y = kmeans2(whiten(coords), 3, iter = 20)  \n",
    "print(\"Centroids: \",x)\n",
    "\n",
    "plt.scatter(coords[:,0], coords[:,1], c=y);\n",
    "plt.grid(linewidth='0.5')\n",
    "plt.show()\n",
    "\n"
   ]
  },
  {
   "cell_type": "code",
   "execution_count": 513,
   "metadata": {
    "collapsed": false
   },
   "outputs": [],
   "source": [
    "zip_code_df = pd.read_csv('ZipCode_Populations.csv')\n"
   ]
  },
  {
   "cell_type": "code",
   "execution_count": 348,
   "metadata": {
    "collapsed": false
   },
   "outputs": [],
   "source": [
    "curr_zip = zip_code_df['Zip'][0]\n",
    "\n",
    "sums = {}\n",
    "temp_sum = 0\n",
    "\n",
    "for i in range(0,len(zip_code_df)):    \n",
    "    if curr_zip != zip_code_df.iloc[i]['Zip']:\n",
    "        sums[curr_zip] = temp_sum\n",
    "        curr_zip = zip_code_df.iloc[i]['Zip']\n",
    "        temp_sum = zip_code_df.iloc[i]['NUMBER']\n",
    "    else:\n",
    "        temp_sum += zip_code_df.iloc[i]['NUMBER']"
   ]
  },
  {
   "cell_type": "code",
   "execution_count": 512,
   "metadata": {
    "collapsed": false
   },
   "outputs": [],
   "source": [
    "df_zip_coords = pd.read_csv('Zip_Coords.csv')\n"
   ]
  },
  {
   "cell_type": "code",
   "execution_count": 511,
   "metadata": {
    "collapsed": false
   },
   "outputs": [],
   "source": [
    "crash_coords_df = s.to_frame()\n",
    "crash_coords_arr = np.zeros(134, dtype=('2float'))\n",
    "\n",
    "for i in range(0,134):\n",
    "    coord = str(crash_coords_df.iloc[i])\n",
    "    opening_paren_index = coord.find(\"(\")\n",
    "    comma_index = coord.find(\",\")\n",
    "    closing_paren_index = coord.find(\")\")\n",
    "    crash_lat = float(coord[opening_paren_index+1:comma_index])\n",
    "    crash_lng = float(coord[comma_index+1:closing_paren_index])\n",
    "    crash_coords_arr[i] = ((crash_lat,crash_lng))\n",
    "\n",
    "#do the same for dui_incidents_180 df\n",
    "dui_incidents_arr = np.zeros(456,dtype=('2float'))\n",
    "temp_df = pd.read_csv('dui_incidents_180.csv')\n",
    "for i in range(0,455):\n",
    "    coord = str(temp_df.iloc[i])\n",
    "    opening_paren_index = coord.find(\"(\")\n",
    "    comma_index = coord.find(\",\")\n",
    "    closing_parn_index = coord.find(\")\")\n",
    "    crash_lat = float(coord[opening_paren_index+1:comma_index])\n",
    "    crash_lng = float(coord[comma_index+2:closing_parn_index])\n",
    "    dui_incidents_arr[i] = ((crash_lat,crash_lng))\n"
   ]
  },
  {
   "cell_type": "code",
   "execution_count": 509,
   "metadata": {
    "collapsed": false,
    "scrolled": false
   },
   "outputs": [
    {
     "data": {
      "image/png": "[encoded data removed]",
      "text/plain": [
       "<matplotlib.figure.Figure at 0x1171ffbe0>"
      ]
     },
     "metadata": {},
     "output_type": "display_data"
    }
   ],
   "source": [
    "#for key in sums:\n",
    "\n",
    "fig = plt.figure()\n",
    "ax1 = fig.add_subplot(111)\n",
    "ax1.set_xlim(32.54,33.05)\n",
    "ax1.set_ylim(-117.26,-116.95 )\n",
    "\n",
    "#Zip coordinates\n",
    "zip_coordinates = np.zeros(len(df_zip_coords), dtype=('2float'))\n",
    "\n",
    "for i in range(0,len(df_zip_coords)):\n",
    "    zip_lat = float(df_zip_coords.iloc[i]['Lat'])\n",
    "    zip_lng = float(df_zip_coords.iloc[i]['Lon']) \n",
    "    zip_coordinates[i] = (zip_lat,zip_lng)\n",
    "    \n",
    "#Alcohol Permits SCATTER PLOTTING\n",
    "\n",
    "coords = np.zeros(len(alc_permits), dtype=('2float'))\n",
    "\n",
    "for i in range(0, len(alc_permits)):\n",
    "    alc_lat = float(alc_permits['lat'].iloc[i])\n",
    "    alc_lng = float(alc_permits['lon'].iloc[i])\n",
    "    coords[i] = (alc_lat, alc_lng)\n",
    "        \n",
    "coords = coords[0:len(coords)-2]\n",
    "ax1.scatter(coords[:,0], coords[:,1], c='red')\n",
    "ax1.scatter(zip_coordinates[:,0],zip_coordinates[:,1], c='blue')\n",
    "ax1.scatter(crash_coords_arr[:,0],crash_coords_arr[:,1], c='yellow')\n",
    "ax1.scatter(dui_incidents_arr[:,0],dui_incidents_arr[:,1],c='green')\n",
    "\n",
    "#create legend\n",
    "red_dots = mpatches.Patch(color='red',label='ABS Locations')\n",
    "blue_dots = mpatches.Patch(color='blue',label='Postal Zip Codes')\n",
    "yellow_dots = mpatches.Patch(color='yellow',label='DUI Crash Locations')\n",
    "green_dots = mpatches.Patch(color='green',label='DUI Arrest Locations')\n",
    "\n",
    "plt.legend(handles=[red_dots,blue_dots,yellow_dots,green_dots])\n",
    "\n",
    "# Turn on the grid\n",
    "#plt.grid(linewidth='1.0')\n",
    "plt.show()\n"
   ]
  },
  {
   "cell_type": "code",
   "execution_count": null,
   "metadata": {
    "collapsed": true
   },
   "outputs": [],
   "source": []
  },
  {
   "cell_type": "code",
   "execution_count": null,
   "metadata": {
    "collapsed": true
   },
   "outputs": [],
   "source": []
  },
  {
   "cell_type": "code",
   "execution_count": null,
   "metadata": {
    "collapsed": true
   },
   "outputs": [],
   "source": []
  }
 ],
 "metadata": {
  "kernelspec": {
   "display_name": "Python 3",
   "language": "python",
   "name": "python3"
  },
  "language_info": {
   "codemirror_mode": {
    "name": "ipython",
    "version": 3
   },
   "file_extension": ".py",
   "mimetype": "text/x-python",
   "name": "python",
   "nbconvert_exporter": "python",
   "pygments_lexer": "ipython3",
   "version": "3.6.0"
  }
 },
 "nbformat": 4,
 "nbformat_minor": 2
}
