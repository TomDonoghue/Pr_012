{
 "cells": [
  {
   "cell_type": "code",
   "execution_count": 1,
   "metadata": {
    "collapsed": true
   },
   "outputs": [],
   "source": [
    "# Import pandas, numpy, matplotlib\n",
    "import pandas as pd\n",
    "import numpy as np\n",
    "import matplotlib as mp\n",
    "import matplotlib.pyplot as plt\n",
    "from pygeocoder import Geocoder\n",
    "from geopy.geocoders import Nominatim\n",
    "from geopy.distance import vincenty\n",
    "\n"
   ]
  },
  {
   "cell_type": "code",
   "execution_count": 5,
   "metadata": {
    "collapsed": false
   },
   "outputs": [
    {
     "data": {
      "text/html": [
       "<div>\n",
       "<table border=\"1\" class=\"dataframe\">\n",
       "  <thead>\n",
       "    <tr style=\"text-align: right;\">\n",
       "      <th></th>\n",
       "      <th>id</th>\n",
       "      <th>date</th>\n",
       "      <th>year</th>\n",
       "      <th>month</th>\n",
       "      <th>day</th>\n",
       "      <th>week</th>\n",
       "      <th>dow</th>\n",
       "      <th>time</th>\n",
       "      <th>hour</th>\n",
       "      <th>is_night</th>\n",
       "      <th>...</th>\n",
       "      <th>comm_pop</th>\n",
       "      <th>council</th>\n",
       "      <th>coun_pop</th>\n",
       "      <th>asr_zone</th>\n",
       "      <th>lampdist</th>\n",
       "      <th>lat</th>\n",
       "      <th>lon</th>\n",
       "      <th>desc</th>\n",
       "      <th>gctype</th>\n",
       "      <th>gcquality</th>\n",
       "    </tr>\n",
       "  </thead>\n",
       "  <tbody>\n",
       "    <tr>\n",
       "      <th>0</th>\n",
       "      <td>NaN</td>\n",
       "      <td>9/19/08</td>\n",
       "      <td>2008</td>\n",
       "      <td>9</td>\n",
       "      <td>3184</td>\n",
       "      <td>37</td>\n",
       "      <td>5</td>\n",
       "      <td>13:00:00</td>\n",
       "      <td>13</td>\n",
       "      <td>0</td>\n",
       "      <td>...</td>\n",
       "      <td>42779</td>\n",
       "      <td>San005</td>\n",
       "      <td>143957</td>\n",
       "      <td>1</td>\n",
       "      <td>3162</td>\n",
       "      <td>32.957337</td>\n",
       "      <td>-117.143777</td>\n",
       "      <td>ILLEGAL POSSESS TEAR GAS/ETC</td>\n",
       "      <td>cns/segment</td>\n",
       "      <td>54</td>\n",
       "    </tr>\n",
       "    <tr>\n",
       "      <th>1</th>\n",
       "      <td>NaN</td>\n",
       "      <td>7/20/08</td>\n",
       "      <td>2008</td>\n",
       "      <td>7</td>\n",
       "      <td>3123</td>\n",
       "      <td>28</td>\n",
       "      <td>0</td>\n",
       "      <td>22:00:00</td>\n",
       "      <td>22</td>\n",
       "      <td>1</td>\n",
       "      <td>...</td>\n",
       "      <td>15748</td>\n",
       "      <td>San003</td>\n",
       "      <td>147116</td>\n",
       "      <td>3</td>\n",
       "      <td>8000</td>\n",
       "      <td>32.758153</td>\n",
       "      <td>-117.125022</td>\n",
       "      <td>FRAUD</td>\n",
       "      <td>cns/segment</td>\n",
       "      <td>65</td>\n",
       "    </tr>\n",
       "  </tbody>\n",
       "</table>\n",
       "<p>2 rows × 26 columns</p>\n",
       "</div>"
      ],
      "text/plain": [
       "   id     date  year  month   day  week  dow      time  hour  is_night  \\\n",
       "0 NaN  9/19/08  2008      9  3184    37    5  13:00:00    13         0   \n",
       "1 NaN  7/20/08  2008      7  3123    28    0  22:00:00    22         1   \n",
       "\n",
       "     ...     comm_pop council coun_pop  asr_zone lampdist        lat  \\\n",
       "0    ...        42779  San005   143957         1     3162  32.957337   \n",
       "1    ...        15748  San003   147116         3     8000  32.758153   \n",
       "\n",
       "          lon                          desc       gctype  gcquality  \n",
       "0 -117.143777  ILLEGAL POSSESS TEAR GAS/ETC  cns/segment         54  \n",
       "1 -117.125022                         FRAUD  cns/segment         65  \n",
       "\n",
       "[2 rows x 26 columns]"
      ]
     },
     "execution_count": 5,
     "metadata": {},
     "output_type": "execute_result"
    }
   ],
   "source": [
    "# Pull the comprehensive police reported incidents file, dated from 2007 to 2013.\n",
    "incidents7_13 = pd.read_csv('incidents-100k.csv')\n",
    "incidents7_13.head(2)"
   ]
  },
  {
   "cell_type": "code",
   "execution_count": null,
   "metadata": {
    "collapsed": true
   },
   "outputs": [],
   "source": []
  }
 ],
 "metadata": {
  "kernelspec": {
   "display_name": "Python 3",
   "language": "python",
   "name": "python3"
  },
  "language_info": {
   "codemirror_mode": {
    "name": "ipython",
    "version": 3
   },
   "file_extension": ".py",
   "mimetype": "text/x-python",
   "name": "python",
   "nbconvert_exporter": "python",
   "pygments_lexer": "ipython3",
   "version": "3.6.0"
  }
 },
 "nbformat": 4,
 "nbformat_minor": 2
}
