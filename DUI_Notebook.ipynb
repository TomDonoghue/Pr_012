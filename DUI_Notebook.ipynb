{
 "cells": [
  {
   "cell_type": "code",
   "execution_count": 1,
   "metadata": {
    "collapsed": true
   },
   "outputs": [],
   "source": [
    "# Import pandas, numpy, matplotlib\n",
    "import pandas as pd\n",
    "import numpy as np\n",
    "import matplotlib as mp\n",
    "import matplotlib.pyplot as plt\n",
    "from pygeocoder import Geocoder\n",
    "from geopy.geocoders import Nominatim\n",
    "from geopy.distance import vincenty\n",
    "\n"
   ]
  },
  {
   "cell_type": "code",
   "execution_count": 43,
   "metadata": {
    "collapsed": false
   },
   "outputs": [
    {
     "data": {
      "text/html": [
       "<div>\n",
       "<table border=\"1\" class=\"dataframe\">\n",
       "  <thead>\n",
       "    <tr style=\"text-align: right;\">\n",
       "      <th></th>\n",
       "      <th>agency</th>\n",
       "      <th>Charge_Description_Orig</th>\n",
       "      <th>activityDate</th>\n",
       "      <th>BLOCK_ADDRESS</th>\n",
       "      <th>ZipCode</th>\n",
       "      <th>community</th>\n",
       "    </tr>\n",
       "  </thead>\n",
       "  <tbody>\n",
       "    <tr>\n",
       "      <th>0</th>\n",
       "      <td>SHERIFF</td>\n",
       "      <td>290 VIOLATION AFTER INCARCERATION (F)</td>\n",
       "      <td>2/13/17 17:00</td>\n",
       "      <td>9400  BLOCK CHESAPEAKE DRIVE</td>\n",
       "      <td>92123.0</td>\n",
       "      <td>SAN DIEGO</td>\n",
       "    </tr>\n",
       "    <tr>\n",
       "      <th>1</th>\n",
       "      <td>SHERIFF</td>\n",
       "      <td>290 VIOLATION AFTER INCARCERATION (F)</td>\n",
       "      <td>1/2/17 17:00</td>\n",
       "      <td>9600  BLOCK CHESAPEAKE DRIVE</td>\n",
       "      <td>92123.0</td>\n",
       "      <td>SAN DIEGO</td>\n",
       "    </tr>\n",
       "    <tr>\n",
       "      <th>2</th>\n",
       "      <td>SHERIFF</td>\n",
       "      <td>290 VIOLATION AFTER INCARCERATION (F)</td>\n",
       "      <td>12/9/16 17:00</td>\n",
       "      <td>9600  BLOCK CHESAPEAKE DRIVE</td>\n",
       "      <td>92123.0</td>\n",
       "      <td>SAN DIEGO</td>\n",
       "    </tr>\n",
       "    <tr>\n",
       "      <th>3</th>\n",
       "      <td>SHERIFF</td>\n",
       "      <td>290 VIOLATION AFTER INCARCERATION (F)</td>\n",
       "      <td>12/14/16 17:00</td>\n",
       "      <td>0  BLOCK UNKNOWN</td>\n",
       "      <td>92020.0</td>\n",
       "      <td>EL CAJON</td>\n",
       "    </tr>\n",
       "    <tr>\n",
       "      <th>4</th>\n",
       "      <td>SHERIFF</td>\n",
       "      <td>290 VIOLATION AFTER INCARCERATION (F)</td>\n",
       "      <td>3/28/17 17:00</td>\n",
       "      <td>9400  BLOCK CHESAPEAKE DRIVE</td>\n",
       "      <td>92123.0</td>\n",
       "      <td>SAN DIEGO</td>\n",
       "    </tr>\n",
       "  </tbody>\n",
       "</table>\n",
       "</div>"
      ],
      "text/plain": [
       "    agency                Charge_Description_Orig    activityDate  \\\n",
       "0  SHERIFF  290 VIOLATION AFTER INCARCERATION (F)   2/13/17 17:00   \n",
       "1  SHERIFF  290 VIOLATION AFTER INCARCERATION (F)    1/2/17 17:00   \n",
       "2  SHERIFF  290 VIOLATION AFTER INCARCERATION (F)   12/9/16 17:00   \n",
       "3  SHERIFF  290 VIOLATION AFTER INCARCERATION (F)  12/14/16 17:00   \n",
       "4  SHERIFF  290 VIOLATION AFTER INCARCERATION (F)   3/28/17 17:00   \n",
       "\n",
       "                  BLOCK_ADDRESS  ZipCode  community  \n",
       "0  9400  BLOCK CHESAPEAKE DRIVE  92123.0  SAN DIEGO  \n",
       "1  9600  BLOCK CHESAPEAKE DRIVE  92123.0  SAN DIEGO  \n",
       "2  9600  BLOCK CHESAPEAKE DRIVE  92123.0  SAN DIEGO  \n",
       "3              0  BLOCK UNKNOWN  92020.0   EL CAJON  \n",
       "4  9400  BLOCK CHESAPEAKE DRIVE  92123.0  SAN DIEGO  "
      ]
     },
     "execution_count": 43,
     "metadata": {},
     "output_type": "execute_result"
    }
   ],
   "source": [
    "# Pull the comprehensive police reported incidents file, dated from 2007 to 2013.\n",
    "incidents_180 = pd.read_csv('arrests_180_days.csv')\n",
    "incidents_180.dropna(inplace=True)\n",
    "incidents_180.head(5)"
   ]
  },
  {
   "cell_type": "code",
   "execution_count": 45,
   "metadata": {
    "collapsed": false
   },
   "outputs": [
    {
     "data": {
      "text/html": [
       "<div>\n",
       "<table border=\"1\" class=\"dataframe\">\n",
       "  <thead>\n",
       "    <tr style=\"text-align: right;\">\n",
       "      <th></th>\n",
       "      <th>agency</th>\n",
       "      <th>Charge_Description_Orig</th>\n",
       "      <th>activityDate</th>\n",
       "      <th>BLOCK_ADDRESS</th>\n",
       "      <th>ZipCode</th>\n",
       "      <th>community</th>\n",
       "    </tr>\n",
       "  </thead>\n",
       "  <tbody>\n",
       "    <tr>\n",
       "      <th>15932</th>\n",
       "      <td>EL CAJON</td>\n",
       "      <td>DRIVING UNDER INFLUENCE WITHIN 10 YEARS OF PRI...</td>\n",
       "      <td>5/12/17 1:39</td>\n",
       "      <td>700 S  BLOCK MAGNOLIA AVENUE</td>\n",
       "      <td>92020.0</td>\n",
       "      <td>EL CAJON</td>\n",
       "    </tr>\n",
       "    <tr>\n",
       "      <th>15933</th>\n",
       "      <td>CHULA VISTA</td>\n",
       "      <td>DRIVING UNDER INFLUENCE WITHIN 10 YEARS OF PRI...</td>\n",
       "      <td>3/10/17 0:09</td>\n",
       "      <td>EVANS AVENUE / E L STREET</td>\n",
       "      <td>91911.0</td>\n",
       "      <td>CHULA VISTA</td>\n",
       "    </tr>\n",
       "    <tr>\n",
       "      <th>15935</th>\n",
       "      <td>SHERIFF</td>\n",
       "      <td>DRIVING UNDER INFLUENCE WITHIN 10 YEARS OF PRI...</td>\n",
       "      <td>2/3/17 22:25</td>\n",
       "      <td>400  BLOCK ALMOND ROAD</td>\n",
       "      <td>92078.0</td>\n",
       "      <td>SAN MARCOS</td>\n",
       "    </tr>\n",
       "    <tr>\n",
       "      <th>18415</th>\n",
       "      <td>EL CAJON</td>\n",
       "      <td>DUI .08 ALC:CAUSING BODILY INJ (F)</td>\n",
       "      <td>3/24/17 20:20</td>\n",
       "      <td>N 03RD STREET / E MAIN STREET</td>\n",
       "      <td>92020.0</td>\n",
       "      <td>EL CAJON</td>\n",
       "    </tr>\n",
       "    <tr>\n",
       "      <th>18416</th>\n",
       "      <td>OCEANSIDE</td>\n",
       "      <td>DUI .08 ALC:CAUSING BODILY INJ (F)</td>\n",
       "      <td>12/22/16 21:28</td>\n",
       "      <td>4000  BLOCK VISTA WAY</td>\n",
       "      <td>92056.0</td>\n",
       "      <td>OCEANSIDE</td>\n",
       "    </tr>\n",
       "  </tbody>\n",
       "</table>\n",
       "</div>"
      ],
      "text/plain": [
       "            agency                            Charge_Description_Orig  \\\n",
       "15932     EL CAJON  DRIVING UNDER INFLUENCE WITHIN 10 YEARS OF PRI...   \n",
       "15933  CHULA VISTA  DRIVING UNDER INFLUENCE WITHIN 10 YEARS OF PRI...   \n",
       "15935      SHERIFF  DRIVING UNDER INFLUENCE WITHIN 10 YEARS OF PRI...   \n",
       "18415     EL CAJON                 DUI .08 ALC:CAUSING BODILY INJ (F)   \n",
       "18416    OCEANSIDE                 DUI .08 ALC:CAUSING BODILY INJ (F)   \n",
       "\n",
       "         activityDate                  BLOCK_ADDRESS  ZipCode    community  \n",
       "15932    5/12/17 1:39   700 S  BLOCK MAGNOLIA AVENUE  92020.0     EL CAJON  \n",
       "15933    3/10/17 0:09      EVANS AVENUE / E L STREET  91911.0  CHULA VISTA  \n",
       "15935    2/3/17 22:25         400  BLOCK ALMOND ROAD  92078.0   SAN MARCOS  \n",
       "18415   3/24/17 20:20  N 03RD STREET / E MAIN STREET  92020.0     EL CAJON  \n",
       "18416  12/22/16 21:28          4000  BLOCK VISTA WAY  92056.0    OCEANSIDE  "
      ]
     },
     "execution_count": 45,
     "metadata": {},
     "output_type": "execute_result"
    }
   ],
   "source": [
    "# Filter dataframe down to info on just DUI incidents\n",
    "dui_incidents_180 = incidents_180[incidents_180['Charge_Description_Orig'].str.contains(\"DUI\")]\n",
    "dui_incidents_180.head(5)\n"
   ]
  },
  {
   "cell_type": "code",
   "execution_count": 46,
   "metadata": {
    "collapsed": false
   },
   "outputs": [
    {
     "data": {
      "text/html": [
       "<div>\n",
       "<table border=\"1\" class=\"dataframe\">\n",
       "  <thead>\n",
       "    <tr style=\"text-align: right;\">\n",
       "      <th></th>\n",
       "      <th>Zip</th>\n",
       "      <th>YEAR</th>\n",
       "      <th>RACE</th>\n",
       "      <th>NUMBER</th>\n",
       "    </tr>\n",
       "  </thead>\n",
       "  <tbody>\n",
       "    <tr>\n",
       "      <th>0</th>\n",
       "      <td>91901</td>\n",
       "      <td>2010</td>\n",
       "      <td>Pacific Islander</td>\n",
       "      <td>43</td>\n",
       "    </tr>\n",
       "    <tr>\n",
       "      <th>1</th>\n",
       "      <td>91901</td>\n",
       "      <td>2010</td>\n",
       "      <td>White</td>\n",
       "      <td>13131</td>\n",
       "    </tr>\n",
       "    <tr>\n",
       "      <th>2</th>\n",
       "      <td>91901</td>\n",
       "      <td>2010</td>\n",
       "      <td>Black</td>\n",
       "      <td>201</td>\n",
       "    </tr>\n",
       "    <tr>\n",
       "      <th>3</th>\n",
       "      <td>91901</td>\n",
       "      <td>2010</td>\n",
       "      <td>Other</td>\n",
       "      <td>9</td>\n",
       "    </tr>\n",
       "    <tr>\n",
       "      <th>4</th>\n",
       "      <td>91901</td>\n",
       "      <td>2010</td>\n",
       "      <td>Two or More</td>\n",
       "      <td>375</td>\n",
       "    </tr>\n",
       "  </tbody>\n",
       "</table>\n",
       "</div>"
      ],
      "text/plain": [
       "     Zip  YEAR              RACE  NUMBER\n",
       "0  91901  2010  Pacific Islander      43\n",
       "1  91901  2010             White   13131\n",
       "2  91901  2010             Black     201\n",
       "3  91901  2010             Other       9\n",
       "4  91901  2010       Two or More     375"
      ]
     },
     "execution_count": 46,
     "metadata": {},
     "output_type": "execute_result"
    }
   ],
   "source": [
    "# Read in our zip code csv with population counts\n",
    "zip_code_df = pd.read_csv('ZipCode_Populations.csv')\n",
    "zip_code_df.head(5)"
   ]
  },
  {
   "cell_type": "code",
   "execution_count": 47,
   "metadata": {
    "collapsed": true
   },
   "outputs": [],
   "source": [
    "# Since our population counts are separated by race, lets sum over unique zip codes and \n",
    "# accumulate a summed population for each zip."
   ]
  },
  {
   "cell_type": "code",
   "execution_count": 48,
   "metadata": {
    "collapsed": true
   },
   "outputs": [],
   "source": [
    "curr_zip = zip_code_df['Zip'][0]\n",
    "\n",
    "sums = {}\n",
    "temp_sum = 0\n",
    "\n",
    "for i in range(0,len(zip_code_df)):    \n",
    "    if curr_zip != zip_code_df.iloc[i]['Zip']:\n",
    "        sums[curr_zip] = temp_sum\n",
    "        curr_zip = zip_code_df.iloc[i]['Zip']\n",
    "        temp_sum = zip_code_df.iloc[i]['NUMBER']\n",
    "    else:\n",
    "        temp_sum += zip_code_df.iloc[i]['NUMBER']"
   ]
  },
  {
   "cell_type": "code",
   "execution_count": 49,
   "metadata": {
    "collapsed": false
   },
   "outputs": [
    {
     "name": "stdout",
     "output_type": "stream",
     "text": [
      "{91901: 17084, 91902: 17005, 91905: 1669, 91906: 5765, 91910: 76153, 91911: 83249, 91913: 40346, 91914: 15627, 91915: 25126, 91916: 2006, 91917: 2276, 91931: 350, 91932: 26325, 91934: 775, 91935: 8235, 91941: 33302, 91942: 36886, 91945: 25320, 91948: 340, 91950: 55312, 91962: 1698, 91963: 1162, 91977: 59164, 91978: 7956, 91980: 173, 92003: 4354, 92004: 4054, 92007: 10531, 92008: 27568, 92009: 39735, 92010: 14481, 92011: 22393, 92014: 13432, 92019: 42637, 92020: 58407, 92021: 65227, 92024: 52579, 92025: 48275, 92026: 52417, 92027: 53143, 92028: 46449, 92029: 18624, 92036: 3573, 92037: 38652, 92040: 40286, 92054: 37941, 92055: 33412, 92056: 51590, 92057: 54152, 92058: 23406, 92059: 1498, 92060: 778, 92061: 2855, 92064: 47904, 92065: 35365, 92066: 430, 92067: 8689, 92069: 46322, 92070: 697, 92071: 53211, 92075: 11854, 92078: 39983, 92081: 27422, 92082: 17896, 92083: 37082, 92084: 47861, 92086: 1131, 92091: 1621, 92093: 8718, 92096: 622, 92101: 35623, 92102: 42967, 92103: 30680, 92104: 44947, 92105: 70270, 92106: 21847, 92107: 26929, 92108: 18191, 92109: 45802, 92110: 23852, 92111: 47870, 92113: 51210, 92114: 65433, 92115: 56694, 92116: 31439, 92117: 50617, 92118: 17041, 92119: 23039, 92120: 26185, 92121: 4253, 92122: 43382, 92123: 26343, 92124: 30332, 92126: 73037, 92127: 39272, 92128: 47393, 92129: 51208, 92130: 49716, 92131: 34326, 92134: 155, 92135: 6520, 92136: 11549, 92139: 35082, 92140: 3435, 92145: 2, 92154: 79233, 92155: 1135, 92173: 29318, 92182: 2020, 92536: 365}\n"
     ]
    }
   ],
   "source": [
    "print(sums)"
   ]
  },
  {
   "cell_type": "code",
   "execution_count": 50,
   "metadata": {
    "collapsed": false
   },
   "outputs": [
    {
     "data": {
      "text/html": [
       "<div>\n",
       "<table border=\"1\" class=\"dataframe\">\n",
       "  <thead>\n",
       "    <tr style=\"text-align: right;\">\n",
       "      <th></th>\n",
       "      <th>Zip Code</th>\n",
       "      <th>Lat</th>\n",
       "      <th>Lon</th>\n",
       "    </tr>\n",
       "  </thead>\n",
       "  <tbody>\n",
       "    <tr>\n",
       "      <th>0</th>\n",
       "      <td>92101</td>\n",
       "      <td>32.71</td>\n",
       "      <td>-117.16</td>\n",
       "    </tr>\n",
       "    <tr>\n",
       "      <th>1</th>\n",
       "      <td>92102</td>\n",
       "      <td>32.72</td>\n",
       "      <td>-117.09</td>\n",
       "    </tr>\n",
       "    <tr>\n",
       "      <th>2</th>\n",
       "      <td>92103</td>\n",
       "      <td>32.74</td>\n",
       "      <td>-117.17</td>\n",
       "    </tr>\n",
       "    <tr>\n",
       "      <th>3</th>\n",
       "      <td>92104</td>\n",
       "      <td>32.73</td>\n",
       "      <td>-117.12</td>\n",
       "    </tr>\n",
       "    <tr>\n",
       "      <th>4</th>\n",
       "      <td>92105</td>\n",
       "      <td>32.73</td>\n",
       "      <td>-117.08</td>\n",
       "    </tr>\n",
       "    <tr>\n",
       "      <th>5</th>\n",
       "      <td>92106</td>\n",
       "      <td>32.72</td>\n",
       "      <td>-117.23</td>\n",
       "    </tr>\n",
       "    <tr>\n",
       "      <th>6</th>\n",
       "      <td>92107</td>\n",
       "      <td>32.73</td>\n",
       "      <td>-117.24</td>\n",
       "    </tr>\n",
       "    <tr>\n",
       "      <th>7</th>\n",
       "      <td>92107</td>\n",
       "      <td>32.73</td>\n",
       "      <td>-117.24</td>\n",
       "    </tr>\n",
       "    <tr>\n",
       "      <th>8</th>\n",
       "      <td>92108</td>\n",
       "      <td>32.77</td>\n",
       "      <td>-117.10</td>\n",
       "    </tr>\n",
       "    <tr>\n",
       "      <th>9</th>\n",
       "      <td>92109</td>\n",
       "      <td>32.79</td>\n",
       "      <td>-117.23</td>\n",
       "    </tr>\n",
       "  </tbody>\n",
       "</table>\n",
       "</div>"
      ],
      "text/plain": [
       "   Zip Code    Lat     Lon\n",
       "0     92101  32.71 -117.16\n",
       "1     92102  32.72 -117.09\n",
       "2     92103  32.74 -117.17\n",
       "3     92104  32.73 -117.12\n",
       "4     92105  32.73 -117.08\n",
       "5     92106  32.72 -117.23\n",
       "6     92107  32.73 -117.24\n",
       "7     92107  32.73 -117.24\n",
       "8     92108  32.77 -117.10\n",
       "9     92109  32.79 -117.23"
      ]
     },
     "execution_count": 50,
     "metadata": {},
     "output_type": "execute_result"
    }
   ],
   "source": [
    "# Read in our zip code csv that contains latitude and longitude coordinates. We want to link\n",
    "# this information to our other zip code data with population counts.\n",
    "\n",
    "df_zip_coords = pd.read_csv('Zip_Coords.csv')\n",
    "\n",
    "# Drop unnecessary columns from data, such as Status, City, and State, since we already \n",
    "# know our zip code values are San Diego specific.\n",
    "df_zip_coords.drop(['Idk', 'City', 'State', 'Status'], axis=1, inplace=True)\n",
    "df_zip_coords.head(10)"
   ]
  },
  {
   "cell_type": "code",
   "execution_count": 51,
   "metadata": {
    "collapsed": false
   },
   "outputs": [
    {
     "name": "stderr",
     "output_type": "stream",
     "text": [
      "/Users/sarahgeorge/anaconda/envs/py36/lib/python3.6/site-packages/ipykernel/__main__.py:4: SettingWithCopyWarning: \n",
      "A value is trying to be set on a copy of a slice from a DataFrame\n",
      "\n",
      "See the caveats in the documentation: http://pandas.pydata.org/pandas-docs/stable/indexing.html#indexing-view-versus-copy\n"
     ]
    },
    {
     "data": {
      "text/html": [
       "<div>\n",
       "<table border=\"1\" class=\"dataframe\">\n",
       "  <thead>\n",
       "    <tr style=\"text-align: right;\">\n",
       "      <th></th>\n",
       "      <th>Zip Code</th>\n",
       "      <th>Lat</th>\n",
       "      <th>Lon</th>\n",
       "    </tr>\n",
       "  </thead>\n",
       "  <tbody>\n",
       "    <tr>\n",
       "      <th>0</th>\n",
       "      <td>92101</td>\n",
       "      <td>32.71</td>\n",
       "      <td>-117.16</td>\n",
       "    </tr>\n",
       "    <tr>\n",
       "      <th>1</th>\n",
       "      <td>92102</td>\n",
       "      <td>32.72</td>\n",
       "      <td>-117.09</td>\n",
       "    </tr>\n",
       "    <tr>\n",
       "      <th>2</th>\n",
       "      <td>92103</td>\n",
       "      <td>32.74</td>\n",
       "      <td>-117.17</td>\n",
       "    </tr>\n",
       "    <tr>\n",
       "      <th>3</th>\n",
       "      <td>92104</td>\n",
       "      <td>32.73</td>\n",
       "      <td>-117.12</td>\n",
       "    </tr>\n",
       "    <tr>\n",
       "      <th>4</th>\n",
       "      <td>92105</td>\n",
       "      <td>32.73</td>\n",
       "      <td>-117.08</td>\n",
       "    </tr>\n",
       "    <tr>\n",
       "      <th>5</th>\n",
       "      <td>92106</td>\n",
       "      <td>32.72</td>\n",
       "      <td>-117.23</td>\n",
       "    </tr>\n",
       "    <tr>\n",
       "      <th>6</th>\n",
       "      <td>92107</td>\n",
       "      <td>32.73</td>\n",
       "      <td>-117.24</td>\n",
       "    </tr>\n",
       "    <tr>\n",
       "      <th>7</th>\n",
       "      <td>92107</td>\n",
       "      <td>32.73</td>\n",
       "      <td>-117.24</td>\n",
       "    </tr>\n",
       "    <tr>\n",
       "      <th>8</th>\n",
       "      <td>92108</td>\n",
       "      <td>32.77</td>\n",
       "      <td>-117.10</td>\n",
       "    </tr>\n",
       "    <tr>\n",
       "      <th>9</th>\n",
       "      <td>92109</td>\n",
       "      <td>32.79</td>\n",
       "      <td>-117.23</td>\n",
       "    </tr>\n",
       "  </tbody>\n",
       "</table>\n",
       "</div>"
      ],
      "text/plain": [
       "   Zip Code    Lat     Lon\n",
       "0     92101  32.71 -117.16\n",
       "1     92102  32.72 -117.09\n",
       "2     92103  32.74 -117.17\n",
       "3     92104  32.73 -117.12\n",
       "4     92105  32.73 -117.08\n",
       "5     92106  32.72 -117.23\n",
       "6     92107  32.73 -117.24\n",
       "7     92107  32.73 -117.24\n",
       "8     92108  32.77 -117.10\n",
       "9     92109  32.79 -117.23"
      ]
     },
     "execution_count": 51,
     "metadata": {},
     "output_type": "execute_result"
    }
   ],
   "source": [
    "# Convert our zip codes to string so that we can compare them to the xip codes in our\n",
    "# population dataframe.\n",
    "for i in range(0, len(df_zip_coords)):\n",
    "    df_zip_coords.iloc[i]['Zip Code'] = str(df_zip_coords.iloc[i]['Zip Code'])\n",
    "\n",
    "df_zip_coords.head(10)"
   ]
  },
  {
   "cell_type": "code",
   "execution_count": 52,
   "metadata": {
    "collapsed": false
   },
   "outputs": [],
   "source": [
    "# Convert our summed population counts to string\n",
    "for i in sums:\n",
    "    sums[i] = str(sums[i])\n",
    "    \n",
    "# Create a dataframe from our dictionary of population sums called 'df_zip_pops'.\n",
    "df_zip_pops = pd.DataFrame.from_dict(sums, orient='index').reset_index()\n",
    "df_zip_pops.rename(columns = {'index':'Zip Code', 0:'Population'}, inplace=True)"
   ]
  },
  {
   "cell_type": "code",
   "execution_count": 53,
   "metadata": {
    "collapsed": false
   },
   "outputs": [
    {
     "name": "stdout",
     "output_type": "stream",
     "text": [
      "Length:  110\n"
     ]
    },
    {
     "data": {
      "text/html": [
       "<div>\n",
       "<table border=\"1\" class=\"dataframe\">\n",
       "  <thead>\n",
       "    <tr style=\"text-align: right;\">\n",
       "      <th></th>\n",
       "      <th>Zip Code</th>\n",
       "      <th>Population</th>\n",
       "    </tr>\n",
       "  </thead>\n",
       "  <tbody>\n",
       "    <tr>\n",
       "      <th>0</th>\n",
       "      <td>91901</td>\n",
       "      <td>17084</td>\n",
       "    </tr>\n",
       "    <tr>\n",
       "      <th>1</th>\n",
       "      <td>91902</td>\n",
       "      <td>17005</td>\n",
       "    </tr>\n",
       "    <tr>\n",
       "      <th>2</th>\n",
       "      <td>91905</td>\n",
       "      <td>1669</td>\n",
       "    </tr>\n",
       "    <tr>\n",
       "      <th>3</th>\n",
       "      <td>91906</td>\n",
       "      <td>5765</td>\n",
       "    </tr>\n",
       "    <tr>\n",
       "      <th>4</th>\n",
       "      <td>91910</td>\n",
       "      <td>76153</td>\n",
       "    </tr>\n",
       "    <tr>\n",
       "      <th>5</th>\n",
       "      <td>91911</td>\n",
       "      <td>83249</td>\n",
       "    </tr>\n",
       "    <tr>\n",
       "      <th>6</th>\n",
       "      <td>91913</td>\n",
       "      <td>40346</td>\n",
       "    </tr>\n",
       "    <tr>\n",
       "      <th>7</th>\n",
       "      <td>91914</td>\n",
       "      <td>15627</td>\n",
       "    </tr>\n",
       "    <tr>\n",
       "      <th>8</th>\n",
       "      <td>91915</td>\n",
       "      <td>25126</td>\n",
       "    </tr>\n",
       "    <tr>\n",
       "      <th>9</th>\n",
       "      <td>91916</td>\n",
       "      <td>2006</td>\n",
       "    </tr>\n",
       "  </tbody>\n",
       "</table>\n",
       "</div>"
      ],
      "text/plain": [
       "   Zip Code Population\n",
       "0     91901      17084\n",
       "1     91902      17005\n",
       "2     91905       1669\n",
       "3     91906       5765\n",
       "4     91910      76153\n",
       "5     91911      83249\n",
       "6     91913      40346\n",
       "7     91914      15627\n",
       "8     91915      25126\n",
       "9     91916       2006"
      ]
     },
     "execution_count": 53,
     "metadata": {},
     "output_type": "execute_result"
    }
   ],
   "source": [
    "# Let's look at our new dataframe.\n",
    "print(\"Length: \", len(df_zip_pops))\n",
    "df_zip_pops.head(10)\n"
   ]
  },
  {
   "cell_type": "code",
   "execution_count": 57,
   "metadata": {
    "collapsed": false
   },
   "outputs": [
    {
     "name": "stdout",
     "output_type": "stream",
     "text": [
      "Length:  39\n"
     ]
    }
   ],
   "source": [
    "# Merge our first dataset with zipcode coordinates with our second dataset with zipcode\n",
    "# populations.\n",
    "merged_zips = pd.merge(df_zip_coords, df_zip_pops, on='Zip Code')\n",
    "merged_zips = merged_zips.drop_duplicates()\n",
    "print(\"Length: \", len(merged_zips))\n",
    "\n",
    "# Fix any odd indexing that occurs after dropping rows\n",
    "merged_zips = merged_zips.reset_index(drop=True)"
   ]
  },
  {
   "cell_type": "code",
   "execution_count": 58,
   "metadata": {
    "collapsed": false
   },
   "outputs": [
    {
     "data": {
      "text/html": [
       "<div>\n",
       "<table border=\"1\" class=\"dataframe\">\n",
       "  <thead>\n",
       "    <tr style=\"text-align: right;\">\n",
       "      <th></th>\n",
       "      <th>Lat</th>\n",
       "      <th>Lon</th>\n",
       "      <th>distributed_pop</th>\n",
       "    </tr>\n",
       "  </thead>\n",
       "  <tbody>\n",
       "    <tr>\n",
       "      <th>0</th>\n",
       "      <td>32.71</td>\n",
       "      <td>-117.16</td>\n",
       "      <td>8905.75</td>\n",
       "    </tr>\n",
       "    <tr>\n",
       "      <th>1</th>\n",
       "      <td>32.72</td>\n",
       "      <td>-117.09</td>\n",
       "      <td>10741.75</td>\n",
       "    </tr>\n",
       "    <tr>\n",
       "      <th>2</th>\n",
       "      <td>32.74</td>\n",
       "      <td>-117.17</td>\n",
       "      <td>7670.00</td>\n",
       "    </tr>\n",
       "    <tr>\n",
       "      <th>3</th>\n",
       "      <td>32.73</td>\n",
       "      <td>-117.12</td>\n",
       "      <td>11236.75</td>\n",
       "    </tr>\n",
       "    <tr>\n",
       "      <th>4</th>\n",
       "      <td>32.73</td>\n",
       "      <td>-117.08</td>\n",
       "      <td>17567.50</td>\n",
       "    </tr>\n",
       "  </tbody>\n",
       "</table>\n",
       "</div>"
      ],
      "text/plain": [
       "     Lat     Lon  distributed_pop\n",
       "0  32.71 -117.16          8905.75\n",
       "1  32.72 -117.09         10741.75\n",
       "2  32.74 -117.17          7670.00\n",
       "3  32.73 -117.12         11236.75\n",
       "4  32.73 -117.08         17567.50"
      ]
     },
     "execution_count": 58,
     "metadata": {},
     "output_type": "execute_result"
    }
   ],
   "source": [
    "# Let's deal with population.\n",
    "# Create a column in our dataframe with a 'distributed population', that divides our \n",
    "# summed count by a set radius value, r^2. \n",
    "# *Note* this is assuming evenly distributed population in a zip code area\n",
    "\n",
    "\n",
    "# Initialize a series called 'distributed_pop'\n",
    "distributed_pop = pd.Series()\n",
    "\n",
    "# Add to dataframe\n",
    "merged_zips['distributed_pop'] = distributed_pop\n",
    "merged_zips.head(5)\n",
    "\n",
    "# Set radius value\n",
    "radius = 2\n",
    "\n",
    "for i in range(0, len(merged_zips)):\n",
    "    merged_zips.set_value(i, 'distributed_pop', \n",
    "                          str(((int(merged_zips.iloc[i]['Population']))/(radius*radius))))\n",
    "\n",
    "# Only need the coordinate values and distributed population in final dataframe for analysis\n",
    "merged_zips = merged_zips[['Lat','Lon','distributed_pop']]\n",
    "merged_zips.head(5)"
   ]
  },
  {
   "cell_type": "markdown",
   "metadata": {},
   "source": [
    "# Now lets put all of our data into a matrix of lists.\n",
    "We are going to make a matrix based off of coordinates ranges in our map. Each square in the map with contains a list of 4 items: \n",
    "\n",
    "crashes -  number of DUI related crashes in the area\n",
    "\n",
    "arrests - number of DUI related arrests in the area\n",
    "\n",
    "licenses - number of alcohol licenses in the area\n",
    "\n",
    "population - population size in the area"
   ]
  },
  {
   "cell_type": "code",
   "execution_count": 59,
   "metadata": {
    "collapsed": false
   },
   "outputs": [
    {
     "name": "stdout",
     "output_type": "stream",
     "text": [
      "Matrix will be of dimension 10x10\n",
      "\n",
      "Cell width: 0.0509999999999998 latitude points\n",
      "Cell height: 0.029999999999999714 longitude points\n",
      "\n",
      "[[0, 0, 0, 0, 0, 0, 0, 0, 0, 0], [0, 0, 0, 0, 0, 0, 0, 0, 0, 0], [0, 0, 0, 0, 0, 0, 0, 0, 0, 0], [0, 0, 0, 0, 0, 0, 0, 0, 0, 0], [0, 0, 0, 0, 0, 0, 0, 0, 0, 0], [0, 0, 0, 0, 0, 0, 0, 0, 0, 0], [0, 0, 0, 0, 0, 0, 0, 0, 0, 0], [0, 0, 0, 0, 0, 0, 0, 0, 0, 0], [0, 0, 0, 0, 0, 0, 0, 0, 0, 0], [0, 0, 0, 0, 0, 0, 0, 0, 0, 0]]\n"
     ]
    }
   ],
   "source": [
    "# Initialize boundary values for our grid that will model a slice of San Diego.\n",
    "\n",
    "min_lat = 32.54\n",
    "max_lat = 33.05\n",
    "min_lon = -117.25\n",
    "max_lon = -116.95\n",
    "\n",
    "#number of matrix columns and rows\n",
    "matrix_dim = 10\n",
    "\n",
    "#make matrix\n",
    "matrix = [[0 for j in range(matrix_dim)] for i in range(matrix_dim)]\n",
    "\n",
    "#width of a cell\n",
    "cell_width = abs((max_lat - min_lat)/matrix_dim)\n",
    "\n",
    "#height of a cell\n",
    "cell_height = (max_lon - min_lon)/matrix_dim\n",
    "\n",
    "print(\"Matrix will be of dimension \" + str(matrix_dim) + \"x\" + str(matrix_dim) + '\\n')\n",
    "print(\"Cell width: \" + str(cell_width) + \" latitude points\")\n",
    "print(\"Cell height: \" + str(cell_height) + \" longitude points\" + '\\n')\n",
    "\n",
    "print(matrix)"
   ]
  },
  {
   "cell_type": "code",
   "execution_count": 60,
   "metadata": {
    "collapsed": false
   },
   "outputs": [
    {
     "data": {
      "text/html": [
       "<div>\n",
       "<table border=\"1\" class=\"dataframe\">\n",
       "  <thead>\n",
       "    <tr style=\"text-align: right;\">\n",
       "      <th></th>\n",
       "      <th>0</th>\n",
       "      <th>(30.0206764, -90.10265509999999)</th>\n",
       "    </tr>\n",
       "  </thead>\n",
       "  <tbody>\n",
       "    <tr>\n",
       "      <th>0</th>\n",
       "      <td>1</td>\n",
       "      <td>(32.9178621, -117.1426708)</td>\n",
       "    </tr>\n",
       "    <tr>\n",
       "      <th>1</th>\n",
       "      <td>2</td>\n",
       "      <td>(41.4580185, -96.4925694)</td>\n",
       "    </tr>\n",
       "    <tr>\n",
       "      <th>2</th>\n",
       "      <td>3</td>\n",
       "      <td>(38.9062481, -90.13781209999999)</td>\n",
       "    </tr>\n",
       "    <tr>\n",
       "      <th>3</th>\n",
       "      <td>4</td>\n",
       "      <td>(36.077923, -102.519732)</td>\n",
       "    </tr>\n",
       "    <tr>\n",
       "      <th>4</th>\n",
       "      <td>5</td>\n",
       "      <td>(32.6972057, -117.032704)</td>\n",
       "    </tr>\n",
       "  </tbody>\n",
       "</table>\n",
       "</div>"
      ],
      "text/plain": [
       "   0  (30.0206764, -90.10265509999999)\n",
       "0  1        (32.9178621, -117.1426708)\n",
       "1  2         (41.4580185, -96.4925694)\n",
       "2  3  (38.9062481, -90.13781209999999)\n",
       "3  4          (36.077923, -102.519732)\n",
       "4  5         (32.6972057, -117.032704)"
      ]
     },
     "execution_count": 60,
     "metadata": {},
     "output_type": "execute_result"
    }
   ],
   "source": [
    "# Read in our geocoded data for crashes.\n",
    "crash_data = pd.read_csv('crash_coordinates.csv')\n",
    "crash_data.head(5)"
   ]
  },
  {
   "cell_type": "code",
   "execution_count": 61,
   "metadata": {
    "collapsed": false
   },
   "outputs": [],
   "source": [
    "# ARREST ARRAY\n",
    "arrest_data = pd.read_csv('dui_incidents_180.csv')\n",
    "arrest_data = arrest_data['coordinates']\n",
    "\n",
    "arrest_coords_arr = np.zeros(len(arrest_data), dtype=('2float'))\n",
    "coord = []\n",
    "# Organize arrest coordinates \n",
    "for i in range(0,len(arrest_data)-1):\n",
    "    coord = arrest_data.iloc[i]\n",
    "    opening_paren_index = coord.find(\"(\")\n",
    "    comma_index = coord.find(\",\")\n",
    "    closing_parn_index = coord.find(\")\")\n",
    "    arrest_lat = float(coord[opening_paren_index+1:comma_index])\n",
    "    arrest_lng = float(coord[comma_index+2:closing_parn_index])\n",
    "    arrest_coords_arr[i] = ((arrest_lat,arrest_lng))"
   ]
  },
  {
   "cell_type": "code",
   "execution_count": 62,
   "metadata": {
    "collapsed": false
   },
   "outputs": [],
   "source": [
    "# CRASH ARRAY\n",
    "crash_coords_df = pd.read_csv('crash_coordinates.csv')\n",
    "\n",
    "crash_coords_arr = np.zeros(len(df_zip_coords), dtype=('2float'))\n",
    "for i in range(0,len(crash_coords_arr)-1):\n",
    "    coord = crash_coords_df.iloc[i]\n",
    "    opening_paren_index = coord[1].find(\"(\")\n",
    "    comma_index = coord[1].find(\",\")\n",
    "    closing_parn_index = coord[1].find(\")\")\n",
    "    crash_lat = float(coord[1][opening_paren_index+1:comma_index])\n",
    "    crash_lng = float(coord[1][comma_index+2:closing_parn_index])\n",
    "    crash_coords_arr[i] = ((crash_lat,crash_lng))\n",
    "\n"
   ]
  },
  {
   "cell_type": "code",
   "execution_count": 63,
   "metadata": {
    "collapsed": false
   },
   "outputs": [],
   "source": [
    "# ALCOHOL PERMIT ARRAY\n",
    "alc_permits = pd.read_csv('abs-licenses-casnd.csv')\n",
    "crash_coordinates_s = pd.read_csv(\"crash_coordinates.csv\")\n",
    "crash_coordinates_s.head(5)\n",
    "\n",
    "# Reduce to pertinent data columns\n",
    "alc_permits = alc_permits[['last_date', 'status', 'issuedate', 'exprdate', 'lon', 'lat', 'business']]\n",
    "# Filter out data that may be outside the San Diego area.\n",
    "# Limit range so that any outliers or typos in data are eliminated\n",
    "\n",
    "alc_permits = alc_permits.drop(alc_permits[alc_permits['lon'] < -120].index)\n",
    "alc_permits.dropna(inplace = True)\n",
    "#Alcohol Permits SCATTER PLOTTING\n",
    "\n",
    "permit_coords = np.zeros(len(alc_permits), dtype=('2float'))\n",
    "\n",
    "for i in range(0, len(alc_permits)):\n",
    "    alc_lat = float(alc_permits['lat'].iloc[i])\n",
    "    alc_lng = float(alc_permits['lon'].iloc[i])\n",
    "    permit_coords[i] = (alc_lat, alc_lng)"
   ]
  },
  {
   "cell_type": "code",
   "execution_count": 64,
   "metadata": {
    "collapsed": false
   },
   "outputs": [
    {
     "name": "stdout",
     "output_type": "stream",
     "text": [
      "[[[0, 0, 0, 0], [0, 0, 0, 0], [0, 0, 0, 0], [1, 4, 85, 12194.0], [6, 38, 58, 11450.5], [1, 24, 60, 0], [0, 2, 11, 0], [1, 3, 23, 0], [0, 0, 120, 0], [0, 0, 8, 0]], [[0, 0, 0, 0], [0, 0, 0, 0], [0, 0, 0, 0], [0, 0, 46, 858.75], [2, 10, 139, 0], [3, 32, 36, 12654.25], [2, 8, 56, 10845.5], [0, 0, 16, 1063.25], [0, 1, 4, 12429.0], [0, 0, 0, 0]], [[0, 0, 0, 0], [0, 0, 0, 0], [0, 0, 41, 283.75], [0, 1, 183, 19064.5], [5, 5, 86, 5963.0], [0, 13, 55, 24621.75], [0, 0, 13, 0], [0, 0, 16, 0], [1, 1, 2, 12429.0], [0, 0, 0, 0]], [[0, 0, 8, 0], [0, 0, 1, 0], [0, 0, 0, 4544.0], [1, 8, 153, 8944.5], [6, 17, 152, 0], [1, 12, 130, 18553.25], [0, 0, 11, 18259.75], [3, 3, 21, 0], [0, 1, 2, 0], [0, 1, 0, 0]], [[0, 0, 12, 0], [0, 0, 5, 0], [0, 2, 23, 15689.75], [0, 3, 72, 11236.75], [1, 21, 129, 12407.5], [0, 2, 30, 6585.75], [0, 0, 11, 18259.25], [1, 4, 36, 0], [0, 4, 19, 12802.0], [0, 0, 18, 9818.0]], [[0, 0, 13, 0], [0, 0, 82, 0], [0, 0, 112, 0], [5, 6, 29, 28309.25], [3, 18, 89, 4547.75], [1, 2, 8, 7583.0], [0, 0, 0, 0], [0, 0, 7, 0], [0, 5, 45, 0], [0, 4, 51, 0]], [[1, 1, 11, 7329.5], [0, 0, 36, 0], [1, 2, 13, 8770.5], [0, 4, 19, 16358.25], [5, 5, 74, 21224.75], [0, 1, 13, 0], [0, 0, 0, 8581.5], [0, 0, 2, 0], [0, 0, 45, 11848.25], [0, 0, 10, 0]], [[0, 1, 6, 27137.75], [0, 0, 23, 0], [0, 1, 5, 8770.5], [1, 0, 27, 0], [0, 1, 108, 0], [0, 0, 9, 5759.75], [0, 0, 0, 0], [0, 0, 2, 0], [0, 0, 27, 0], [0, 0, 2, 0]], [[1, 0, 5, 19808.25], [0, 0, 10, 0], [0, 0, 4, 0], [0, 0, 0, 0], [0, 0, 28, 0], [0, 0, 59, 0], [0, 0, 4, 0], [0, 0, 0, 0], [0, 0, 0, 0], [0, 0, 0, 0]], [[0, 0, 4, 0], [0, 0, 16, 0], [0, 0, 21, 0], [0, 0, 0, 0], [0, 0, 41, 0], [0, 0, 50, 0], [0, 0, 9, 0], [0, 0, 0, 0], [0, 0, 0, 0], [0, 0, 0, 0]]]\n"
     ]
    }
   ],
   "source": [
    "# Input data into matrix lists\n",
    "\n",
    "for i in range(matrix_dim):\n",
    "    for j in range(matrix_dim):\n",
    "        # Initialize array to count instances that a coordinate meets boundary conditions\n",
    "        in_list=[]\n",
    "        crash_array=[]\n",
    "        arrest_array=[]\n",
    "        permit_array=[]\n",
    "        pop_array=[]\n",
    "        #print(float(merged_zips.loc[0][1]))\n",
    "        for k in range(len(crash_coords_arr)):\n",
    "            crash_bool = ((crash_coords_arr[k][0] >= min_lat + cell_width*i) \n",
    "                             and (crash_coords_arr[k][0] <= min_lat + cell_width*(i+1))\n",
    "                             and (crash_coords_arr[k][1] >= min_lon + cell_height*j) \n",
    "                             and (crash_coords_arr[k][1] <= min_lon + cell_height*(j+1)))\n",
    "            if crash_bool == True:\n",
    "                crash_array.append(1)\n",
    "        for k in range(len(arrest_coords_arr)):\n",
    "            arrest_bool = ((arrest_coords_arr[k][0] >= min_lat + cell_width*i) \n",
    "                             and (arrest_coords_arr[k][0] <= min_lat + cell_width*(i+1))\n",
    "                             and (arrest_coords_arr[k][1] >= min_lon + cell_height*j) \n",
    "                             and (arrest_coords_arr[k][1] <= min_lon + cell_height*(j+1)))\n",
    "            if arrest_bool == True:\n",
    "                arrest_array.append(1)\n",
    "        for k in range(len(permit_coords)):\n",
    "            permit_bool = ((permit_coords[k][0] >= min_lat + cell_width*i) \n",
    "                             and (permit_coords[k][0] <= min_lat + cell_width*(i+1))\n",
    "                             and (permit_coords[k][1] >= min_lon + cell_height*j) \n",
    "                             and (permit_coords[k][1] <= min_lon + cell_height*(j+1)))\n",
    "            if permit_bool == True:\n",
    "                permit_array.append(1)\n",
    "        for k in range(len(merged_zips)):\n",
    "            pop_bool = ((float(merged_zips.loc[k][0]) >= min_lat + cell_width*i) \n",
    "                             and (float(merged_zips.loc[k][0]) <= min_lat + cell_width*(i+1))\n",
    "                             and (float(merged_zips.loc[k][1]) >= min_lon + cell_height*j) \n",
    "                             and (float(merged_zips.loc[k][1]) <= min_lon + cell_height*(j+1)))\n",
    "            if pop_bool == True:\n",
    "                pop_array.append(merged_zips.loc[k][2])\n",
    "        ###############################\n",
    "        # How we organized our 4 data points:\n",
    "        # list[0] = # of crashes\n",
    "        # list[1] = # of arrests\n",
    "        # list[2] = # of permits\n",
    "        # list[3] = # of people\n",
    "        ###########################\n",
    "        in_list.append(len(crash_array))\n",
    "        in_list.append(len(arrest_array))\n",
    "        in_list.append(len(permit_array))\n",
    "        in_list.append(sum(pop_array))\n",
    "        matrix[j][i] = in_list\n",
    "print(matrix)\n",
    "\n",
    "### NOTE: Sum for population count"
   ]
  },
  {
   "cell_type": "markdown",
   "metadata": {
    "collapsed": false
   },
   "source": [
    "# Visualization and Analysis"
   ]
  },
  {
   "cell_type": "markdown",
   "metadata": {},
   "source": [
    "# 1. Heatmapping"
   ]
  },
  {
   "cell_type": "code",
   "execution_count": 65,
   "metadata": {
    "collapsed": false
   },
   "outputs": [
    {
     "data": {
      "image/png": "[encoded data removed]",
      "text/plain": [
       "<matplotlib.figure.Figure at 0x116ce8dd8>"
      ]
     },
     "metadata": {},
     "output_type": "display_data"
    }
   ],
   "source": [
    "# HEATMAPPING ARRESTS\n",
    "arrest_matrix= [[0 for j in range(matrix_dim)] for i in range(matrix_dim)]\n",
    "for i in range(matrix_dim):\n",
    "    for j in range(matrix_dim):\n",
    "        in_list = matrix[i][j]\n",
    "        population = in_list[3]\n",
    "        if population == 0:\n",
    "            #cannot divide by 0\n",
    "            population = .001\n",
    "        arrest_matrix[i][j] = in_list[1]/population\n",
    "\n",
    "plt.imshow(arrest_matrix, cmap='hot', interpolation='nearest')\n",
    "p = plt.colorbar()\n",
    "plt.title('Hot Spots of DUI Arrests')\n",
    "plt.xlabel('Grid Cell')\n",
    "plt.ylabel('Grid Cell')\n",
    "plt.show()"
   ]
  },
  {
   "cell_type": "code",
   "execution_count": 66,
   "metadata": {
    "collapsed": false
   },
   "outputs": [
    {
     "data": {
      "image/png": "[encoded data removed]",
      "text/plain": [
       "<matplotlib.figure.Figure at 0x116c10e48>"
      ]
     },
     "metadata": {},
     "output_type": "display_data"
    }
   ],
   "source": [
    "# HEATMAPPING Crashes\n",
    "crash_matrix= [[0 for j in range(matrix_dim)] for i in range(matrix_dim)]\n",
    "for i in range(matrix_dim):\n",
    "    for j in range(matrix_dim):\n",
    "        in_list = matrix[i][j]\n",
    "        population = in_list[3]\n",
    "        if population == 0:\n",
    "            #cannot divide by 0\n",
    "            population = .001\n",
    "        crash_matrix[i][j] = in_list[0]/population\n",
    "\n",
    "plt.imshow(crash_matrix, cmap='hot', interpolation='nearest')\n",
    "p = plt.colorbar()\n",
    "plt.title('Hot Spots of DUI Crashes')\n",
    "plt.xlabel('Grid Cell')\n",
    "plt.ylabel('Grid Cell')\n",
    "plt.show()"
   ]
  },
  {
   "cell_type": "code",
   "execution_count": 67,
   "metadata": {
    "collapsed": false
   },
   "outputs": [
    {
     "data": {
      "image/png": "[encoded data removed]",
      "text/plain": [
       "<matplotlib.figure.Figure at 0x116f669b0>"
      ]
     },
     "metadata": {},
     "output_type": "display_data"
    }
   ],
   "source": [
    "# HEATMAPPING Permits\n",
    "permit_matrix= [[0 for j in range(matrix_dim)] for i in range(matrix_dim)]\n",
    "for i in range(matrix_dim):\n",
    "    for j in range(matrix_dim):\n",
    "        in_list = matrix[i][j]\n",
    "        population = in_list[3]\n",
    "        if population == 0:\n",
    "            #cannot divide by 0\n",
    "            population = .001\n",
    "        permit_matrix[i][j] = in_list[2]/population\n",
    "\n",
    "plt.imshow(permit_matrix, cmap='hot', interpolation='nearest')\n",
    "plt.title('Hot Spots of Alcohol Permits')\n",
    "plt.xlabel('Grid Cell')\n",
    "plt.ylabel('Grid Cell')\n",
    "p = plt.colorbar()\n",
    "plt.show()"
   ]
  },
  {
   "cell_type": "markdown",
   "metadata": {},
   "source": [
    "# 2. Scatterplotting"
   ]
  },
  {
   "cell_type": "code",
   "execution_count": 75,
   "metadata": {
    "collapsed": false
   },
   "outputs": [
    {
     "name": "stdout",
     "output_type": "stream",
     "text": [
      "Ratio of Crashes per Arrest:  0.130850866568\n"
     ]
    },
    {
     "data": {
      "image/png": "[encoded data removed]",
      "text/plain": [
       "<matplotlib.figure.Figure at 0x1173b9b38>"
      ]
     },
     "metadata": {},
     "output_type": "display_data"
    }
   ],
   "source": [
    "# ARREST v. CRASH SCATTERPLOT\n",
    "import matplotlib.patches as mpatches\n",
    "\n",
    "arrest_matrix_scatter= [[0 for j in range(matrix_dim)] for i in range(matrix_dim)]\n",
    "for i in range(matrix_dim):\n",
    "    for j in range(matrix_dim):\n",
    "        in_list = matrix[i][j]\n",
    "        arrest_matrix_scatter[i][j] = in_list[1]\n",
    "\n",
    "crash_matrix_scatter= [[0 for j in range(matrix_dim)] for i in range(matrix_dim)]\n",
    "for i in range(matrix_dim):\n",
    "    for j in range(matrix_dim):\n",
    "        in_list = matrix[i][j]\n",
    "        crash_matrix_scatter[i][j] = in_list[0]\n",
    "\n",
    "\n",
    "AF = np.array(arrest_matrix_scatter).flatten()\n",
    "CF = np.array(crash_matrix_scatter).flatten()\n",
    "\n",
    "plt.scatter(AF[:],CF[:], c='blue')\n",
    "# Set our axis data\n",
    "x = AF\n",
    "y = CF\n",
    "\n",
    "# Fit to a line with polyfit\n",
    "m, b = np.polyfit(x, y, 1)\n",
    "\n",
    "plt.plot(x, y, '.')\n",
    "plt.plot(x, m*x + b, '-')\n",
    "print(\"Ratio of Crashes per Arrest: \", m)\n",
    "plt.xlabel('DUI Arrests')\n",
    "plt.ylabel('DUI Crashes')\n",
    "plt.show()"
   ]
  },
  {
   "cell_type": "code",
   "execution_count": 76,
   "metadata": {
    "collapsed": false
   },
   "outputs": [
    {
     "name": "stdout",
     "output_type": "stream",
     "text": [
      "Ratio of Permits per Arrest:  2.83242506484\n"
     ]
    },
    {
     "data": {
      "image/png": "[encoded data removed]",
      "text/plain": [
       "<matplotlib.figure.Figure at 0x1173492b0>"
      ]
     },
     "metadata": {},
     "output_type": "display_data"
    }
   ],
   "source": [
    "# ARREST v. PERMIT SCATTERPLOT\n",
    "\n",
    "permit_matrix_scatter= [[0 for j in range(matrix_dim)] for i in range(matrix_dim)]\n",
    "for i in range(matrix_dim):\n",
    "    for j in range(matrix_dim):\n",
    "        in_list = matrix[i][j]\n",
    "        permit_matrix_scatter[i][j] = in_list[2]\n",
    "\n",
    "PF = np.array(permit_matrix_scatter).flatten()\n",
    "\n",
    "plt.scatter(AF[:],PF[:], c='red')\n",
    "# Set our axis values\n",
    "x = AF\n",
    "y = PF\n",
    "\n",
    "# Fit to a line with polyfit\n",
    "m, b = np.polyfit(x, y, 1)\n",
    "\n",
    "plt.plot(x, y, '.')\n",
    "plt.plot(x, m*x + b, '-')\n",
    "plt.xlabel('DUI Arrests')\n",
    "plt.ylabel('Permits')\n",
    "print(\"Ratio of Permits per Arrest: \", m)\n",
    "\n",
    "plt.show()"
   ]
  },
  {
   "cell_type": "markdown",
   "metadata": {},
   "source": [
    "# 3. OLS Modeling"
   ]
  },
  {
   "cell_type": "code",
   "execution_count": 78,
   "metadata": {
    "collapsed": false
   },
   "outputs": [],
   "source": [
    "import patsy\n",
    "import statsmodels.api as sm"
   ]
  },
  {
   "cell_type": "code",
   "execution_count": 79,
   "metadata": {
    "collapsed": false
   },
   "outputs": [
    {
     "name": "stdout",
     "output_type": "stream",
     "text": [
      "                            OLS Regression Results                            \n",
      "==============================================================================\n",
      "Dep. Variable:                      y   R-squared:                       0.200\n",
      "Model:                            OLS   Adj. R-squared:                  0.192\n",
      "Method:                 Least Squares   F-statistic:                     24.55\n",
      "Date:                Mon, 12 Jun 2017   Prob (F-statistic):           3.03e-06\n",
      "Time:                        11:14:34   Log-Likelihood:                -317.03\n",
      "No. Observations:                 100   AIC:                             638.1\n",
      "Df Residuals:                      98   BIC:                             643.3\n",
      "Df Model:                           1                                         \n",
      "Covariance Type:            nonrobust                                         \n",
      "==============================================================================\n",
      "                 coef    std err          t      P>|t|      [95.0% Conf. Int.]\n",
      "------------------------------------------------------------------------------\n",
      "Intercept      0.5810      0.724      0.803      0.424        -0.855     2.017\n",
      "x              0.0707      0.014      4.955      0.000         0.042     0.099\n",
      "==============================================================================\n",
      "Omnibus:                      105.050   Durbin-Watson:                   1.501\n",
      "Prob(Omnibus):                  0.000   Jarque-Bera (JB):             1332.002\n",
      "Skew:                           3.515   Prob(JB):                    5.75e-290\n",
      "Kurtosis:                      19.439   Cond. No.                         63.0\n",
      "==============================================================================\n",
      "\n",
      "Warnings:\n",
      "[1] Standard Errors assume that the covariance matrix of the errors is correctly specified.\n"
     ]
    }
   ],
   "source": [
    "# Regression 1: Permits vs. Arrests\n",
    "x = PF\n",
    "y = AF\n",
    "\n",
    "# Take the arrays uses for crash and arrest data, and create an OLS model.\n",
    "arrest_permits = pd.DataFrame({'x': x, 'y':y})\n",
    "\n",
    "# Let Arrests be our dependent value, based on number of Permits.\n",
    "outcome, predictors = patsy.dmatrices('y ~ x', arrest_permits)\n",
    "\n",
    "mod = sm.OLS(outcome,predictors)\n",
    "\n",
    "res = mod.fit()\n",
    "print(res.summary())"
   ]
  },
  {
   "cell_type": "markdown",
   "metadata": {},
   "source": [
    "OLS Results: How well do permit counts predict arrest counts?\n",
    "-------------------\n",
    "Since our p-value obtained is very small (reads as 0.000) for the x column which represents permit counts, we can say with confidence that our coefficient of 0.0707 is statistically significant and close to the true value of arrests per permit. Thus, we can approximate that there are roughly 7 arrests for every 100 alcohol permits in San Diego."
   ]
  },
  {
   "cell_type": "code",
   "execution_count": 80,
   "metadata": {
    "collapsed": false
   },
   "outputs": [
    {
     "name": "stdout",
     "output_type": "stream",
     "text": [
      "                            OLS Regression Results                            \n",
      "==============================================================================\n",
      "Dep. Variable:                      y   R-squared:                       0.162\n",
      "Model:                            OLS   Adj. R-squared:                  0.153\n",
      "Method:                 Least Squares   F-statistic:                     18.93\n",
      "Date:                Mon, 12 Jun 2017   Prob (F-statistic):           3.33e-05\n",
      "Time:                        11:14:41   Log-Likelihood:                -158.68\n",
      "No. Observations:                 100   AIC:                             321.4\n",
      "Df Residuals:                      98   BIC:                             326.6\n",
      "Df Model:                           1                                         \n",
      "Covariance Type:            nonrobust                                         \n",
      "==============================================================================\n",
      "                 coef    std err          t      P>|t|      [95.0% Conf. Int.]\n",
      "------------------------------------------------------------------------------\n",
      "Intercept      0.1463      0.148      0.985      0.327        -0.148     0.441\n",
      "x              0.0127      0.003      4.351      0.000         0.007     0.019\n",
      "==============================================================================\n",
      "Omnibus:                       68.543   Durbin-Watson:                   2.183\n",
      "Prob(Omnibus):                  0.000   Jarque-Bera (JB):              288.121\n",
      "Skew:                           2.410   Prob(JB):                     2.73e-63\n",
      "Kurtosis:                       9.777   Cond. No.                         63.0\n",
      "==============================================================================\n",
      "\n",
      "Warnings:\n",
      "[1] Standard Errors assume that the covariance matrix of the errors is correctly specified.\n"
     ]
    }
   ],
   "source": [
    "# Regression 2: Permits vs. Crashes\n",
    "\n",
    "# Assign x column to 'CF' (Crash data), y column to 'PF' (Permit data)\n",
    "x = PF\n",
    "y = CF\n",
    "# Take the arrays uses for crash and arrest data, and create an OLS model.\n",
    "crash_permits = pd.DataFrame({'x': x, 'y':y})\n",
    "outcome, predictors = patsy.dmatrices('y ~ x', crash_permits)\n",
    "\n",
    "mod = sm.OLS(outcome,predictors)\n",
    "\n",
    "res = mod.fit()\n",
    "print(res.summary())"
   ]
  },
  {
   "cell_type": "markdown",
   "metadata": {},
   "source": [
    "OLS Results: How well do permit counts predict crash counts?\n",
    "------------------------\n",
    "Since the results above show a very small p value (reads 0.000 for the y column, represented by Permit Count data, we see that our coefficient is statistically significant and we can believe with confidence that there are roughly 127 car crashes for every 10,000 alcohol permits in San Diego."
   ]
  },
  {
   "cell_type": "code",
   "execution_count": 116,
   "metadata": {
    "collapsed": false
   },
   "outputs": [
    {
     "data": {
      "text/plain": [
       "{0: 0,\n",
       " 283.75: 0,\n",
       " 858.75: 0,\n",
       " 1063.25: 0,\n",
       " 4544.0: 0,\n",
       " 4547.75: 18,\n",
       " 5759.75: 0,\n",
       " 5963.0: 5,\n",
       " 6585.75: 2,\n",
       " 7329.5: 1,\n",
       " 7583.0: 2,\n",
       " 8581.5: 0,\n",
       " 8770.5: 1,\n",
       " 8944.5: 8,\n",
       " 10845.5: 8,\n",
       " 11236.75: 3,\n",
       " 11450.5: 38,\n",
       " 11848.25: 0,\n",
       " 12194.0: 4,\n",
       " 12407.5: 21,\n",
       " 12429.0: 1,\n",
       " 12654.25: 32,\n",
       " 12802.0: 4,\n",
       " 15689.75: 2,\n",
       " 16358.25: 4,\n",
       " 18259.25: 0,\n",
       " 18259.75: 0,\n",
       " 18553.25: 12,\n",
       " 19064.5: 1,\n",
       " 19808.25: 0,\n",
       " 21224.75: 5,\n",
       " 24621.75: 13,\n",
       " 27137.75: 1,\n",
       " 28309.25: 6}"
      ]
     },
     "execution_count": 116,
     "metadata": {},
     "output_type": "execute_result"
    }
   ],
   "source": [
    "# Sort matrix cells by population, create a histogram that shows what the distribution\n",
    "# of arrests/crashes is. \n",
    "\n",
    "from operator import itemgetter\n",
    "pop_arrests = {}\n",
    "for i in range(0, len(matrix)-1):\n",
    "    for j in range(0, len(matrix)-1):\n",
    "        population = ((matrix[i])[j])[3]\n",
    "        arrests = ((matrix[i])[j])[1]\n",
    "        # add key-value pairs of population and arrest to a dictionary.\n",
    "        pop_arrests[population] = arrests\n",
    "\n",
    "pop_arrests\n",
    "#sorted(matrix[1], key=itemgetter(3))"
   ]
  },
  {
   "cell_type": "code",
   "execution_count": 215,
   "metadata": {
    "collapsed": false
   },
   "outputs": [
    {
     "data": {
      "text/plain": [
       "array([  0.,   0.,   0.,   0.,   0.,  18.,   0.,   5.,   2.,   1.,   2.,\n",
       "         0.,   1.,   8.,   8.,   3.,  38.,   0.,   4.,  21.,   1.,  32.,\n",
       "         4.,   2.,   4.,   0.,   0.,  12.,   1.,   0.,   5.,  13.,   1.,\n",
       "         6.])"
      ]
     },
     "execution_count": 215,
     "metadata": {},
     "output_type": "execute_result"
    }
   ],
   "source": [
    "import operator\n",
    "sorted_x = sorted(pop_arrests.items(), key=operator.itemgetter(0))\n",
    "\n",
    "y = np.zeros(len(sorted_x))\n",
    "x = np.zeros(len(sorted_x))\n",
    "\n",
    "for i in range(0, len(sorted_x)):\n",
    "    y[i] = int(sorted_x[i][1])\n",
    "    x[i] = int(sorted_x[i][0])\n",
    "x\n",
    "y"
   ]
  },
  {
   "cell_type": "code",
   "execution_count": 220,
   "metadata": {
    "collapsed": false
   },
   "outputs": [
    {
     "data": {
      "image/png": "[encoded data removed]",
      "text/plain": [
       "<matplotlib.figure.Figure at 0x13539a518>"
      ]
     },
     "metadata": {},
     "output_type": "display_data"
    },
    {
     "data": {
      "image/png": "[encoded data removed]",
      "text/plain": [
       "<matplotlib.figure.Figure at 0x14601e588>"
      ]
     },
     "metadata": {},
     "output_type": "display_data"
    },
    {
     "name": "stdout",
     "output_type": "stream",
     "text": [
      "0.0\n",
      "28309.0\n"
     ]
    }
   ],
   "source": [
    "# Plot bar chart\n",
    "import matplotlib.ticker as ticker\n",
    "import math\n",
    "ax = plt.subplot()\n",
    "#x = range(len(y))\n",
    "range_thing = range(len(y))\n",
    "#plt.bar(range(len(pop_arrests)), pop_arrests.values(),align='center', color='g')\n",
    "plt.bar(range_thing, y, align='center', color='g')\n",
    "#plt.xticks(range(len(pop_arrests)), pop_arrests.keys())\n",
    "plt.xlabel('Population count')\n",
    "plt.ylabel('Arrest count')\n",
    "plt.title('Arrest Counts for Discrete Population Counts')\n",
    "plt.show()\n",
    "\n",
    "\n",
    "low = min(x)\n",
    "high = max(x)\n",
    "plt.xlim(low, high)\n",
    "tick_spacing = 10\n",
    "ax.xaxis.set_major_locator(ticker.MultipleLocator(tick_spacing))\n",
    "plt.show()\n",
    "print(low)\n",
    "print(high)\n"
   ]
  },
  {
   "cell_type": "code",
   "execution_count": 247,
   "metadata": {
    "collapsed": false
   },
   "outputs": [
    {
     "data": {
      "image/png": "[encoded data removed]",
      "text/plain": [
       "<matplotlib.figure.Figure at 0x136dc6b00>"
      ]
     },
     "metadata": {},
     "output_type": "display_data"
    }
   ],
   "source": [
    "\n",
    "lists = sorted(pop_arrests.items()) # sorted by key, return a list of tuples\n",
    "\n",
    "x, y = zip(*lists)\n",
    "x1 = np.array(x)\n",
    "y1 = np.array(y)\n",
    "range_x1 = range(len(x1))\n",
    "\n",
    "plt.bar(range_x1, y1)\n",
    "plt.show()"
   ]
  },
  {
   "cell_type": "markdown",
   "metadata": {},
   "source": [
    "# Discussion"
   ]
  },
  {
   "cell_type": "code",
   "execution_count": null,
   "metadata": {
    "collapsed": true
   },
   "outputs": [],
   "source": []
  },
  {
   "cell_type": "markdown",
   "metadata": {},
   "source": [
    "# Conclusion"
   ]
  },
  {
   "cell_type": "code",
   "execution_count": 147,
   "metadata": {
    "collapsed": true
   },
   "outputs": [],
   "source": []
  }
 ],
 "metadata": {
  "kernelspec": {
   "display_name": "Python 3",
   "language": "python",
   "name": "python3"
  },
  "language_info": {
   "codemirror_mode": {
    "name": "ipython",
    "version": 3
   },
   "file_extension": ".py",
   "mimetype": "text/x-python",
   "name": "python",
   "nbconvert_exporter": "python",
   "pygments_lexer": "ipython3",
   "version": "3.6.0"
  }
 },
 "nbformat": 4,
 "nbformat_minor": 2
}
