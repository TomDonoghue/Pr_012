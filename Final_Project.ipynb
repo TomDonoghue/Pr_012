{
 "cells": [
  {
   "cell_type": "markdown",
   "metadata": {},
   "source": [
    "\n",
    "COGS 108 Final Project:\n",
    "Optimal Bus Stop Locations\n",
    "\n",
    "Group ID: P_012\n",
    "\n"
   ]
  },
  {
   "cell_type": "code",
   "execution_count": 1,
   "metadata": {
    "collapsed": false
   },
   "outputs": [],
   "source": [
    "# Import pandas, numpy, matplotlib\n",
    "import pandas as pd\n",
    "import numpy as np\n",
    "import matplotlib as mp\n",
    "import matplotlib.pyplot as plt\n",
    "from pygeocoder import Geocoder\n",
    "from geopy.geocoders import Nominatim\n",
    "from geopy.distance import vincenty\n"
   ]
  },
  {
   "cell_type": "code",
   "execution_count": 2,
   "metadata": {
    "collapsed": false
   },
   "outputs": [],
   "source": [
    "meter_incomes = pd.read_csv('treas_meters_2016_pole_by_month_datasd.csv')"
   ]
  },
  {
   "cell_type": "code",
   "execution_count": 3,
   "metadata": {
    "collapsed": false
   },
   "outputs": [
    {
     "data": {
      "text/html": [
       "<div>\n",
       "<table border=\"1\" class=\"dataframe\">\n",
       "  <thead>\n",
       "    <tr style=\"text-align: right;\">\n",
       "      <th></th>\n",
       "      <th>pole_id</th>\n",
       "      <th>meter_type</th>\n",
       "      <th>month</th>\n",
       "      <th>sum_trans_amt</th>\n",
       "      <th>num_trans</th>\n",
       "    </tr>\n",
       "  </thead>\n",
       "  <tbody>\n",
       "    <tr>\n",
       "      <th>0</th>\n",
       "      <td>1-1004</td>\n",
       "      <td>SS</td>\n",
       "      <td>1</td>\n",
       "      <td>18701</td>\n",
       "      <td>182</td>\n",
       "    </tr>\n",
       "    <tr>\n",
       "      <th>1</th>\n",
       "      <td>1-1004</td>\n",
       "      <td>SS</td>\n",
       "      <td>2</td>\n",
       "      <td>16869</td>\n",
       "      <td>193</td>\n",
       "    </tr>\n",
       "    <tr>\n",
       "      <th>2</th>\n",
       "      <td>1-1004</td>\n",
       "      <td>SS</td>\n",
       "      <td>3</td>\n",
       "      <td>19283</td>\n",
       "      <td>198</td>\n",
       "    </tr>\n",
       "    <tr>\n",
       "      <th>3</th>\n",
       "      <td>1-1004</td>\n",
       "      <td>SS</td>\n",
       "      <td>4</td>\n",
       "      <td>17912</td>\n",
       "      <td>185</td>\n",
       "    </tr>\n",
       "    <tr>\n",
       "      <th>4</th>\n",
       "      <td>1-1004</td>\n",
       "      <td>SS</td>\n",
       "      <td>5</td>\n",
       "      <td>19425</td>\n",
       "      <td>244</td>\n",
       "    </tr>\n",
       "  </tbody>\n",
       "</table>\n",
       "</div>"
      ],
      "text/plain": [
       "  pole_id meter_type  month  sum_trans_amt  num_trans\n",
       "0  1-1004         SS      1          18701        182\n",
       "1  1-1004         SS      2          16869        193\n",
       "2  1-1004         SS      3          19283        198\n",
       "3  1-1004         SS      4          17912        185\n",
       "4  1-1004         SS      5          19425        244"
      ]
     },
     "execution_count": 3,
     "metadata": {},
     "output_type": "execute_result"
    }
   ],
   "source": [
    "meter_incomes.head(5)"
   ]
  },
  {
   "cell_type": "code",
   "execution_count": 4,
   "metadata": {
    "collapsed": true
   },
   "outputs": [],
   "source": [
    "meter_locs = pd.read_csv('treas_parking_meters_loc_datasd.csv')"
   ]
  },
  {
   "cell_type": "code",
   "execution_count": 5,
   "metadata": {
    "collapsed": false
   },
   "outputs": [
    {
     "data": {
      "text/html": [
       "<div>\n",
       "<table border=\"1\" class=\"dataframe\">\n",
       "  <thead>\n",
       "    <tr style=\"text-align: right;\">\n",
       "      <th></th>\n",
       "      <th>zone</th>\n",
       "      <th>area</th>\n",
       "      <th>sub_area</th>\n",
       "      <th>pole</th>\n",
       "      <th>config_id</th>\n",
       "      <th>config_name</th>\n",
       "      <th>longitude</th>\n",
       "      <th>latitude</th>\n",
       "    </tr>\n",
       "  </thead>\n",
       "  <tbody>\n",
       "    <tr>\n",
       "      <th>0</th>\n",
       "      <td>City</td>\n",
       "      <td>Barrio Logan</td>\n",
       "      <td>1000 CESAR CHAVEZ WAY</td>\n",
       "      <td>CC-1003</td>\n",
       "      <td>9000</td>\n",
       "      <td>2 Hour Max $1.25 HR 8am-6pm Mon-Sat</td>\n",
       "      <td>-117.145178</td>\n",
       "      <td>32.700353</td>\n",
       "    </tr>\n",
       "    <tr>\n",
       "      <th>1</th>\n",
       "      <td>City</td>\n",
       "      <td>Barrio Logan</td>\n",
       "      <td>1000 CESAR CHAVEZ WAY</td>\n",
       "      <td>CC-1005</td>\n",
       "      <td>9000</td>\n",
       "      <td>2 Hour Max $1.25 HR 8am-6pm Mon-Sat</td>\n",
       "      <td>-117.145178</td>\n",
       "      <td>32.700352</td>\n",
       "    </tr>\n",
       "    <tr>\n",
       "      <th>2</th>\n",
       "      <td>City</td>\n",
       "      <td>Barrio Logan</td>\n",
       "      <td>1000 CESAR CHAVEZ WAY</td>\n",
       "      <td>CC-1011</td>\n",
       "      <td>9000</td>\n",
       "      <td>2 Hour Max $1.25 HR 8am-6pm Mon-Sat</td>\n",
       "      <td>-117.145349</td>\n",
       "      <td>32.700155</td>\n",
       "    </tr>\n",
       "    <tr>\n",
       "      <th>3</th>\n",
       "      <td>City</td>\n",
       "      <td>Barrio Logan</td>\n",
       "      <td>1000 CESAR CHAVEZ WAY</td>\n",
       "      <td>CC-1013</td>\n",
       "      <td>9000</td>\n",
       "      <td>2 Hour Max $1.25 HR 8am-6pm Mon-Sat</td>\n",
       "      <td>-117.145405</td>\n",
       "      <td>32.700107</td>\n",
       "    </tr>\n",
       "    <tr>\n",
       "      <th>4</th>\n",
       "      <td>City</td>\n",
       "      <td>Barrio Logan</td>\n",
       "      <td>1000 CESAR CHAVEZ WAY</td>\n",
       "      <td>CC-1015</td>\n",
       "      <td>9000</td>\n",
       "      <td>2 Hour Max $1.25 HR 8am-6pm Mon-Sat</td>\n",
       "      <td>-117.145539</td>\n",
       "      <td>32.699987</td>\n",
       "    </tr>\n",
       "  </tbody>\n",
       "</table>\n",
       "</div>"
      ],
      "text/plain": [
       "   zone          area               sub_area     pole  config_id  \\\n",
       "0  City  Barrio Logan  1000 CESAR CHAVEZ WAY  CC-1003       9000   \n",
       "1  City  Barrio Logan  1000 CESAR CHAVEZ WAY  CC-1005       9000   \n",
       "2  City  Barrio Logan  1000 CESAR CHAVEZ WAY  CC-1011       9000   \n",
       "3  City  Barrio Logan  1000 CESAR CHAVEZ WAY  CC-1013       9000   \n",
       "4  City  Barrio Logan  1000 CESAR CHAVEZ WAY  CC-1015       9000   \n",
       "\n",
       "                           config_name   longitude   latitude  \n",
       "0  2 Hour Max $1.25 HR 8am-6pm Mon-Sat -117.145178  32.700353  \n",
       "1  2 Hour Max $1.25 HR 8am-6pm Mon-Sat -117.145178  32.700352  \n",
       "2  2 Hour Max $1.25 HR 8am-6pm Mon-Sat -117.145349  32.700155  \n",
       "3  2 Hour Max $1.25 HR 8am-6pm Mon-Sat -117.145405  32.700107  \n",
       "4  2 Hour Max $1.25 HR 8am-6pm Mon-Sat -117.145539  32.699987  "
      ]
     },
     "execution_count": 5,
     "metadata": {},
     "output_type": "execute_result"
    }
   ],
   "source": [
    "meter_locs.head(5)"
   ]
  },
  {
   "cell_type": "code",
   "execution_count": 6,
   "metadata": {
    "collapsed": false
   },
   "outputs": [
    {
     "data": {
      "text/html": [
       "<div>\n",
       "<table border=\"1\" class=\"dataframe\">\n",
       "  <thead>\n",
       "    <tr style=\"text-align: right;\">\n",
       "      <th></th>\n",
       "      <th>pole_id</th>\n",
       "      <th>meter_type</th>\n",
       "      <th>month</th>\n",
       "      <th>sum_trans_amt</th>\n",
       "      <th>num_trans</th>\n",
       "    </tr>\n",
       "  </thead>\n",
       "  <tbody>\n",
       "    <tr>\n",
       "      <th>52734</th>\n",
       "      <td>WFI-700N</td>\n",
       "      <td>MS</td>\n",
       "      <td>12</td>\n",
       "      <td>386404</td>\n",
       "      <td>2293</td>\n",
       "    </tr>\n",
       "    <tr>\n",
       "      <th>51824</th>\n",
       "      <td>WBE-500N</td>\n",
       "      <td>MS</td>\n",
       "      <td>8</td>\n",
       "      <td>392316</td>\n",
       "      <td>2286</td>\n",
       "    </tr>\n",
       "    <tr>\n",
       "      <th>51821</th>\n",
       "      <td>WBE-500N</td>\n",
       "      <td>MS</td>\n",
       "      <td>5</td>\n",
       "      <td>381115</td>\n",
       "      <td>2284</td>\n",
       "    </tr>\n",
       "    <tr>\n",
       "      <th>41888</th>\n",
       "      <td>N-1500E</td>\n",
       "      <td>MS</td>\n",
       "      <td>8</td>\n",
       "      <td>364944</td>\n",
       "      <td>2270</td>\n",
       "    </tr>\n",
       "    <tr>\n",
       "      <th>51822</th>\n",
       "      <td>WBE-500N</td>\n",
       "      <td>MS</td>\n",
       "      <td>6</td>\n",
       "      <td>381115</td>\n",
       "      <td>2261</td>\n",
       "    </tr>\n",
       "  </tbody>\n",
       "</table>\n",
       "</div>"
      ],
      "text/plain": [
       "        pole_id meter_type  month  sum_trans_amt  num_trans\n",
       "52734  WFI-700N         MS     12         386404       2293\n",
       "51824  WBE-500N         MS      8         392316       2286\n",
       "51821  WBE-500N         MS      5         381115       2284\n",
       "41888   N-1500E         MS      8         364944       2270\n",
       "51822  WBE-500N         MS      6         381115       2261"
      ]
     },
     "execution_count": 6,
     "metadata": {},
     "output_type": "execute_result"
    }
   ],
   "source": [
    "# Sort the income column of the parking meter dataframe in descending order\n",
    "meter_incomes = meter_incomes.sort_values(by='num_trans', ascending=False)\n",
    "meter_incomes.head(5)"
   ]
  },
  {
   "cell_type": "code",
   "execution_count": 7,
   "metadata": {
    "collapsed": false
   },
   "outputs": [
    {
     "name": "stdout",
     "output_type": "stream",
     "text": [
      "WFI-700N\n"
     ]
    },
    {
     "data": {
      "text/plain": [
       "str"
      ]
     },
     "execution_count": 7,
     "metadata": {},
     "output_type": "execute_result"
    }
   ],
   "source": [
    "greatest = meter_incomes.iloc[0]['pole_id']\n",
    "print(greatest)\n",
    "type(greatest)"
   ]
  },
  {
   "cell_type": "code",
   "execution_count": 8,
   "metadata": {
    "collapsed": false
   },
   "outputs": [
    {
     "name": "stdout",
     "output_type": "stream",
     "text": [
      "          zone          area         sub_area      pole  config_id  \\\n",
      "2632  Downtown  Little Italy  700 WEST FIR ST  WFI-700N      13180   \n",
      "\n",
      "                                   config_name   longitude   latitude  \n",
      "2632  MSPM 2 Hour Max $1.25 HR 8am-6pm Mon-Sat -117.169649  32.724648  \n"
     ]
    }
   ],
   "source": [
    "location = meter_locs.loc[meter_locs['pole'] == greatest]\n",
    "print(location)"
   ]
  },
  {
   "cell_type": "code",
   "execution_count": 9,
   "metadata": {
    "collapsed": false
   },
   "outputs": [],
   "source": [
    "parking_lng = float(location['longitude'])\n",
    "parking_lat = float(location['latitude'])\n",
    "\n",
    "parking_pair = (parking_lat,parking_lng)"
   ]
  },
  {
   "cell_type": "code",
   "execution_count": 10,
   "metadata": {
    "collapsed": false
   },
   "outputs": [
    {
     "name": "stdout",
     "output_type": "stream",
     "text": [
      "1950 Kettner Blvd, San Diego, CA 92101, USA\n"
     ]
    }
   ],
   "source": [
    "reverse = Geocoder.reverse_geocode(parking_lat,parking_lng)\n",
    "print(reverse)"
   ]
  },
  {
   "cell_type": "code",
   "execution_count": 11,
   "metadata": {
    "collapsed": false
   },
   "outputs": [
    {
     "data": {
      "text/html": [
       "<div>\n",
       "<table border=\"1\" class=\"dataframe\">\n",
       "  <thead>\n",
       "    <tr style=\"text-align: right;\">\n",
       "      <th></th>\n",
       "      <th>intersection_code</th>\n",
       "      <th>stop_lat</th>\n",
       "      <th>wheelchair_boarding</th>\n",
       "      <th>zone_id</th>\n",
       "      <th>stop_lon</th>\n",
       "      <th>stop_id</th>\n",
       "      <th>stop_name_short</th>\n",
       "      <th>parent_station</th>\n",
       "      <th>stop_name</th>\n",
       "      <th>reference_place</th>\n",
       "      <th>location_type</th>\n",
       "      <th>stop_place</th>\n",
       "      <th>stop_code</th>\n",
       "    </tr>\n",
       "  </thead>\n",
       "  <tbody>\n",
       "    <tr>\n",
       "      <th>0</th>\n",
       "      <td>N-W/B</td>\n",
       "      <td>32.576640</td>\n",
       "      <td>1.0</td>\n",
       "      <td>NaN</td>\n",
       "      <td>-117.109169</td>\n",
       "      <td>60140</td>\n",
       "      <td>Imperial Bch&amp;Florida</td>\n",
       "      <td>NaN</td>\n",
       "      <td>Imperial Beach Bl &amp; Florida St</td>\n",
       "      <td>NaN</td>\n",
       "      <td>0</td>\n",
       "      <td>NaN</td>\n",
       "      <td>60140.0</td>\n",
       "    </tr>\n",
       "    <tr>\n",
       "      <th>1</th>\n",
       "      <td>F-W/B</td>\n",
       "      <td>32.615403</td>\n",
       "      <td>2.0</td>\n",
       "      <td>NaN</td>\n",
       "      <td>-117.063182</td>\n",
       "      <td>30180</td>\n",
       "      <td>Naples&amp;Alpine</td>\n",
       "      <td>NaN</td>\n",
       "      <td>Naples St &amp; Alpine Av</td>\n",
       "      <td>NaN</td>\n",
       "      <td>0</td>\n",
       "      <td>NaN</td>\n",
       "      <td>30180.0</td>\n",
       "    </tr>\n",
       "    <tr>\n",
       "      <th>2</th>\n",
       "      <td>N-W/B</td>\n",
       "      <td>32.743484</td>\n",
       "      <td>2.0</td>\n",
       "      <td>NaN</td>\n",
       "      <td>-117.181207</td>\n",
       "      <td>13356</td>\n",
       "      <td>Wshngtn&amp;India</td>\n",
       "      <td>NaN</td>\n",
       "      <td>Washington St &amp; India St</td>\n",
       "      <td>NaN</td>\n",
       "      <td>0</td>\n",
       "      <td>NaN</td>\n",
       "      <td>13356.0</td>\n",
       "    </tr>\n",
       "    <tr>\n",
       "      <th>3</th>\n",
       "      <td>N-S/B</td>\n",
       "      <td>32.798164</td>\n",
       "      <td>1.0</td>\n",
       "      <td>NaN</td>\n",
       "      <td>-117.240431</td>\n",
       "      <td>11543</td>\n",
       "      <td>Ingraham&amp;Grand</td>\n",
       "      <td>NaN</td>\n",
       "      <td>Ingraham St &amp; Grand Av</td>\n",
       "      <td>NaN</td>\n",
       "      <td>0</td>\n",
       "      <td>inggra</td>\n",
       "      <td>11543.0</td>\n",
       "    </tr>\n",
       "    <tr>\n",
       "      <th>4</th>\n",
       "      <td>N-S/B</td>\n",
       "      <td>32.710596</td>\n",
       "      <td>0.0</td>\n",
       "      <td>NaN</td>\n",
       "      <td>-117.238380</td>\n",
       "      <td>11546</td>\n",
       "      <td>Rosecrans&amp;McCall</td>\n",
       "      <td>NaN</td>\n",
       "      <td>Rosecrans St &amp; McCall St</td>\n",
       "      <td>NaN</td>\n",
       "      <td>0</td>\n",
       "      <td>NaN</td>\n",
       "      <td>11546.0</td>\n",
       "    </tr>\n",
       "  </tbody>\n",
       "</table>\n",
       "</div>"
      ],
      "text/plain": [
       "  intersection_code   stop_lat  wheelchair_boarding  zone_id    stop_lon  \\\n",
       "0             N-W/B  32.576640                  1.0      NaN -117.109169   \n",
       "1             F-W/B  32.615403                  2.0      NaN -117.063182   \n",
       "2             N-W/B  32.743484                  2.0      NaN -117.181207   \n",
       "3             N-S/B  32.798164                  1.0      NaN -117.240431   \n",
       "4             N-S/B  32.710596                  0.0      NaN -117.238380   \n",
       "\n",
       "  stop_id       stop_name_short parent_station  \\\n",
       "0   60140  Imperial Bch&Florida            NaN   \n",
       "1   30180         Naples&Alpine            NaN   \n",
       "2   13356         Wshngtn&India            NaN   \n",
       "3   11543        Ingraham&Grand            NaN   \n",
       "4   11546      Rosecrans&McCall            NaN   \n",
       "\n",
       "                        stop_name reference_place  location_type stop_place  \\\n",
       "0  Imperial Beach Bl & Florida St             NaN              0        NaN   \n",
       "1           Naples St & Alpine Av             NaN              0        NaN   \n",
       "2        Washington St & India St             NaN              0        NaN   \n",
       "3          Ingraham St & Grand Av             NaN              0     inggra   \n",
       "4        Rosecrans St & McCall St             NaN              0        NaN   \n",
       "\n",
       "   stop_code  \n",
       "0    60140.0  \n",
       "1    30180.0  \n",
       "2    13356.0  \n",
       "3    11543.0  \n",
       "4    11546.0  "
      ]
     },
     "execution_count": 11,
     "metadata": {},
     "output_type": "execute_result"
    }
   ],
   "source": [
    "bus_locs = pd.read_csv('Bus_stops.csv')\n",
    "bus_locs.head(5)"
   ]
  },
  {
   "cell_type": "code",
   "execution_count": 12,
   "metadata": {
    "collapsed": false
   },
   "outputs": [
    {
     "name": "stdout",
     "output_type": "stream",
     "text": [
      "105.8936722842296\n"
     ]
    }
   ],
   "source": [
    "bus_coords = bus_locs[['stop_lat', 'stop_lon']]\n",
    "distances = []\n",
    "for i in range(1, len(bus_coords)):\n",
    "    bus_lat = float(bus_coords['stop_lat'].iloc[i])\n",
    "    bus_lng = float(bus_coords['stop_lon'].iloc[i])\n",
    "\n",
    "    bus_pair = (bus_lat,bus_lng)\n",
    "    distances.append(vincenty(parking_pair,bus_pair).feet)\n",
    "distances.sort()\n",
    "\n",
    "print(distances[0])\n",
    "#print(distances)\n",
    "#print(np.mean(distances))"
   ]
  },
  {
   "cell_type": "code",
   "execution_count": 14,
   "metadata": {
    "collapsed": false
   },
   "outputs": [
    {
     "data": {
      "text/html": [
       "<div>\n",
       "<table border=\"1\" class=\"dataframe\">\n",
       "  <thead>\n",
       "    <tr style=\"text-align: right;\">\n",
       "      <th></th>\n",
       "      <th>id</th>\n",
       "      <th>street_name</th>\n",
       "      <th>limits</th>\n",
       "      <th>all_count</th>\n",
       "      <th>northbound_count</th>\n",
       "      <th>southbound_count</th>\n",
       "      <th>eastbound_count</th>\n",
       "      <th>westbound_count</th>\n",
       "      <th>total_count</th>\n",
       "      <th>file_no</th>\n",
       "      <th>count_date</th>\n",
       "    </tr>\n",
       "  </thead>\n",
       "  <tbody>\n",
       "    <tr>\n",
       "      <th>0</th>\n",
       "      <td>NHARBORDR049004</td>\n",
       "      <td>N HARBOR DR</td>\n",
       "      <td>LAUREL ST - COAST GUARD GT</td>\n",
       "      <td></td>\n",
       "      <td>NaN</td>\n",
       "      <td>NaN</td>\n",
       "      <td>49070.0</td>\n",
       "      <td>50130.0</td>\n",
       "      <td>99200</td>\n",
       "      <td>0490-04</td>\n",
       "      <td>6/24/04 0:00</td>\n",
       "    </tr>\n",
       "    <tr>\n",
       "      <th>1</th>\n",
       "      <td>FAIRMOUNTAV029102</td>\n",
       "      <td>FAIRMOUNT AV</td>\n",
       "      <td>MONTEZUMA RD - CAMINO DEL RIOS</td>\n",
       "      <td></td>\n",
       "      <td>46460</td>\n",
       "      <td>52190.0</td>\n",
       "      <td>NaN</td>\n",
       "      <td>NaN</td>\n",
       "      <td>98650</td>\n",
       "      <td>0291-02</td>\n",
       "      <td>3/12/02 0:00</td>\n",
       "    </tr>\n",
       "    <tr>\n",
       "      <th>2</th>\n",
       "      <td>FAIRMOUNTAV046602</td>\n",
       "      <td>FAIRMOUNT AV</td>\n",
       "      <td>CAMINO DEL RIO S  - SD 008</td>\n",
       "      <td></td>\n",
       "      <td>51180</td>\n",
       "      <td>41470.0</td>\n",
       "      <td>NaN</td>\n",
       "      <td>NaN</td>\n",
       "      <td>92650</td>\n",
       "      <td>0466-02</td>\n",
       "      <td>5/2/02 0:00</td>\n",
       "    </tr>\n",
       "    <tr>\n",
       "      <th>3</th>\n",
       "      <td>NHARBORDR039909</td>\n",
       "      <td>N HARBOR DR</td>\n",
       "      <td>WINSHIP LN - STILLWATER RD</td>\n",
       "      <td></td>\n",
       "      <td>NaN</td>\n",
       "      <td>NaN</td>\n",
       "      <td>42510.0</td>\n",
       "      <td>46580.0</td>\n",
       "      <td>89090</td>\n",
       "      <td>0399-09</td>\n",
       "      <td>6/18/09 0:00</td>\n",
       "    </tr>\n",
       "    <tr>\n",
       "      <th>4</th>\n",
       "      <td>NHARBORDR033407</td>\n",
       "      <td>N HARBOR DR</td>\n",
       "      <td>LAUREL ST - COAST GUARD GT</td>\n",
       "      <td></td>\n",
       "      <td>NaN</td>\n",
       "      <td>NaN</td>\n",
       "      <td>43510.0</td>\n",
       "      <td>44530.0</td>\n",
       "      <td>88040</td>\n",
       "      <td>0334-07</td>\n",
       "      <td>6/27/07 0:00</td>\n",
       "    </tr>\n",
       "  </tbody>\n",
       "</table>\n",
       "</div>"
      ],
      "text/plain": [
       "                  id   street_name                           limits all_count  \\\n",
       "0    NHARBORDR049004   N HARBOR DR       LAUREL ST - COAST GUARD GT             \n",
       "1  FAIRMOUNTAV029102  FAIRMOUNT AV  MONTEZUMA RD - CAMINO DEL RIOS              \n",
       "2  FAIRMOUNTAV046602  FAIRMOUNT AV      CAMINO DEL RIO S  - SD 008              \n",
       "3    NHARBORDR039909   N HARBOR DR       WINSHIP LN - STILLWATER RD             \n",
       "4    NHARBORDR033407   N HARBOR DR       LAUREL ST - COAST GUARD GT             \n",
       "\n",
       "  northbound_count  southbound_count  eastbound_count  westbound_count  \\\n",
       "0              NaN               NaN          49070.0          50130.0   \n",
       "1            46460           52190.0              NaN              NaN   \n",
       "2            51180           41470.0              NaN              NaN   \n",
       "3              NaN               NaN          42510.0          46580.0   \n",
       "4              NaN               NaN          43510.0          44530.0   \n",
       "\n",
       "   total_count  file_no    count_date  \n",
       "0        99200  0490-04  6/24/04 0:00  \n",
       "1        98650  0291-02  3/12/02 0:00  \n",
       "2        92650  0466-02   5/2/02 0:00  \n",
       "3        89090  0399-09  6/18/09 0:00  \n",
       "4        88040  0334-07  6/27/07 0:00  "
      ]
     },
     "execution_count": 14,
     "metadata": {},
     "output_type": "execute_result"
    }
   ],
   "source": [
    "traffic_counts = pd.read_csv('Traffic_Counts.csv')\n",
    "traffic_counts.head(5)"
   ]
  },
  {
   "cell_type": "code",
   "execution_count": 17,
   "metadata": {
    "collapsed": false
   },
   "outputs": [],
   "source": [
    "# TO-DO\n",
    "from sklearn import datasets\n",
    "from sklearn.cluster import KMeans\n",
    "from scipy.cluster.vq import whiten\n",
    "\n",
    "# 1. BUS VS. METER HOTSPOTS\n",
    "# K-means clustering of hottest parking meters\n",
    "# Determine whether bus and meter clusters have similar epicenters\n",
    "\n",
    "\n",
    "# 2. TRAFFIC COUNTS VS. METER REGRESSION\n",
    "# Linear Regression to determine if \"geometric centers\" of high traffic areas are correlated\n",
    "# with locations of hot meters.\n",
    "\n",
    "# 3. TRAFFIC COUNTS & METER CLUSTERING\n",
    "# within clusters of meters, find average transaction amount over total num meters\n",
    "# Also collect traffic counts within cluster.\n",
    "\n",
    "\n",
    "\n",
    "\n"
   ]
  },
  {
   "cell_type": "code",
   "execution_count": null,
   "metadata": {
    "collapsed": true
   },
   "outputs": [],
   "source": []
  }
 ],
 "metadata": {
  "kernelspec": {
   "display_name": "Python 3",
   "language": "python",
   "name": "python3"
  },
  "language_info": {
   "codemirror_mode": {
    "name": "ipython",
    "version": 3
   },
   "file_extension": ".py",
   "mimetype": "text/x-python",
   "name": "python",
   "nbconvert_exporter": "python",
   "pygments_lexer": "ipython3",
   "version": "3.6.0"
  }
 },
 "nbformat": 4,
 "nbformat_minor": 2
}
