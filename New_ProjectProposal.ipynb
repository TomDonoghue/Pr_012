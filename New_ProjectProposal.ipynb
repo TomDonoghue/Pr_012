{
 "cells": [
  {
   "cell_type": "markdown",
   "metadata": {},
   "source": [
    "# COGS 108 - Assignment 4: Project Proposal"
   ]
  },
  {
   "cell_type": "markdown",
   "metadata": {},
   "source": [
    "## Important\n",
    "\n",
    "- Make sure all group member (3-5 people) are listed in the group members section.\n",
    "- ONE, and only one, member of your group should upload this notebook to TritonED. \n",
    "- Each member of the group will receive the same grade on this assignment. \n",
    "- Keep the file name the same: submit the file 'A4_ProjectProposal.ipynb'"
   ]
  },
  {
   "cell_type": "markdown",
   "metadata": {},
   "source": [
    "## Overview"
   ]
  },
  {
   "cell_type": "markdown",
   "metadata": {},
   "source": [
    "Read the project description, and detailed instructions for this assignment, in the 'A4_ProjectOutlineAndProposal' pdf."
   ]
  },
  {
   "cell_type": "markdown",
   "metadata": {},
   "source": [
    "## Group Members: Fill in the Student ID's of each group member here\n",
    "- A12935659\n",
    "- A13208362\n",
    "- A12023175"
   ]
  },
  {
   "cell_type": "markdown",
   "metadata": {},
   "source": [
    "### Research Question\n",
    "\n",
    "What is your research question? (1-2 sentences)"
   ]
  },
  {
   "cell_type": "markdown",
   "metadata": {},
   "source": [
    "*Fill in your research question here*\n"
   ]
  },
  {
   "cell_type": "markdown",
   "metadata": {},
   "source": [
    "We want to look into DUI arrests in the San Diego area. How effectively are police catching drunk drivers? Are people being socially aware of the repercussions of driving drunk?"
   ]
  },
  {
   "cell_type": "markdown",
   "metadata": {},
   "source": [
    "### Hypothesis\n",
    "\n",
    "What is your prediction (2-3 sentences)"
   ]
  },
  {
   "cell_type": "markdown",
   "metadata": {},
   "source": [
    "*Fill in your hypotheses here*\n"
   ]
  },
  {
   "cell_type": "markdown",
   "metadata": {},
   "source": [
    "Over the past decade drunk driving has decreased. Police are better at catching drunk drivers. Due to this increase in police effectiveness, people are becoming more aware of drunk driving consequences and choose not to drive under the influence. This in turn causes a decrease in the number of DUI's over time."
   ]
  },
  {
   "cell_type": "markdown",
   "metadata": {},
   "source": [
    "### Dataset(s)\n",
    "\n",
    "What data will you use to answer your question? Describe the dataset in terms of number of observations, what kind of features it contains, etc. You must use at least one dataset containing at least approximately 1000 observations (if your data are smaller but you feel they are sufficient, email Prof. Voytek). You are welcome (and in fact recommended) to find multiple datasets! If you do so, describe each one, and briefly explain how you will combine them together. "
   ]
  },
  {
   "cell_type": "markdown",
   "metadata": {},
   "source": [
    "*Fill in your dataset information here*\n",
    "\n",
    "- Dataset Name: Incidents-100k\n",
    "- Link to the dataset: http://data.sandiegodata.org/de/dataset/clarinova_com-crime-incidents-casnd-7ba4-extract\n",
    "- Number of observations: 100,000 \n",
    "- Description: This data set shows all the police incidents in the San Diego area from 2007-2013. It conatins type of incident, date, and location. We will use this data to identify number of DUI arrests in the San Diego area.\n",
    "\n",
    "- Dataset Name: abs-license-casnd\n",
    "- Link to the dataset: http://data.sandiegodata.org/de/dataset?organization=san-diego-regional-data-library&groups=crime&res_format%3Dhtml=\n",
    "- Number of observations: 5,000\n",
    "- Description: This data set shows all the places in the San Diego area that have permits to sell alcohol. It has location through address which will be used to get a Lon/Lat coordinate. It also has expiration dates so we would filter for permits that are valid in the year we are studying. This data can be used to find hot spots of alcohol consumption in the San Diego.\n",
    "\n",
    "- Dataset Name: pd_collisions_datasd\n",
    "- Link to the dataset: https://data.sandiego.gov/datasets/police-collisions/\n",
    "- Number of observations: 25,000\n",
    "- Description: This data contains information on all the collisions in the San Diego area in 2015-2017. It contains location street number and name. We will use this to get long/lat information. It also has charge description data which shows if a DUI was involved in the crash. This data will be used to get number of crashes due to DUI for a certain area.\n",
    "\n",
    "If you plan to use multiple datasets, add 1-2 sentences about how you plan to combine these datasets.\n",
    "\n",
    "    We will use the collision and arrest data to get our counts for arrests and collision and calculate a ratio between the two in a certain area. This tells us whether police are effectively catching drunk drivers. We will use the licensing data to show where people are most likely consuming alcohol in the San Diego are to see how far drivers under the influence are driving before either being arrested or involved in a crash.\n",
    "    "
   ]
  },
  {
   "cell_type": "markdown",
   "metadata": {},
   "source": [
    "### Background & Prior Work\n",
    "\n",
    "Why is this question of interest, what background information led you to your hypothesis, and why is this important?\n",
    "\n",
    "Find some relevant prior work, and reference them. Even if you think you have a totally novel question, find the most similar prior work you can, and discuss how it relates to your project. \n",
    "\n",
    "References can be research publications, but they need not be: blogs, github repositories, company websites, etc., are viable references if they are relevant to your project.\n",
    "\n",
    "(2-3 paragraphs, including at least 2 references)"
   ]
  },
  {
   "cell_type": "markdown",
   "metadata": {},
   "source": [
    "# *Fill in your background and prior work here* \n",
    "    \n",
    "    This question is of interest because public safety is always a critical matter that should be monitored on a regular basis. Without strict monitoring of the improvement of DUI arrest rates over time, we cannot take action to improve the experience of San Diego citizens or tourists taking part in our city's night life. Background information that led to our hypothesis that arrest rates are improving included reports of arrest rates from prior years in the entire state (a DMV report that tracked changes in the arrest rate and alcohol related fatalities at https://www.dmv.ca.gov/portal/wcm/connect/77b8b0e3-c20b-42b0-8670-451d9c9262cd/S5-250.pdf?MOD=AJPERES) and articles about police officers setting up DUI checkpoints more often during holidays and other higher-risk times of year. \n",
    "    \n",
    "    The DMV report we read included statewide DUI arrest rates up until 2013, and noted significant decreases in rates from 2011-2012 and 2012-2013. We would like to introduce San Diego specific data to see if our city's trends are matching state trends, and introduce more current data (up to 2016) to see if city DUI arrest rates are keeping a steady trend, decreasing, or increasing. We have also seen reports of DUI checkpoint locations at https://www.dmv.ca.gov/portal/wcm/connect/77b8b0e3-c20b-42b0-8670-451d9c9262cd/S5-250.pdf?MOD=AJPERES, and we would like to see if the prevalence of these checkpoints has contributed at all to decreasing rates. Both our sources are government operated, therefore we consider them reputable. We would like to see if PD and social awareness are bringing arrests and misdemeanors down, or if there is still a need for further action.\n",
    "    \n",
    "    \n",
    "Referencess (include a link):\n",
    "- 1) https://www.dmv.ca.gov/portal/wcm/connect/ea06d0a4-a73f-4b2d-b6f1-257029275629/S5-246.pdf?MOD=AJPERES&CONVERT_TO=url&CACHEID=ea06d0a4-a73f-4b2d-b6f1-257029275629\n",
    "- 2)https://www.dmv.ca.gov/portal/wcm/connect/77b8b0e3-c20b-42b0-8670-451d9c9262cd/S5-250.pdf?MOD=AJPERES"
   ]
  },
  {
   "cell_type": "markdown",
   "metadata": {},
   "source": [
    "### Proposed Methods\n",
    "\n",
    "What methods will you use to analyze your data?\n",
    "\n",
    "- How 'clean' is the data? To the extent that it requires cleaning, how will you do so?\n",
    "- How will you analyze the data? Be as specific as you can. Briefly mention any pre-processing steps that are required for your methods (for example, checking data distributions and performing any transformations that may be required). Include a brief outline of how you will apply your chosen method(s). \n",
    "- What do you plan to report? Briefly mention any key visualizations you plan to create, and/or the kind of result you will be able to report that addresses your question (this could be, for example, the outcome of some statistical test(s), prediction error on a model, a model fit parameter, etc.).\n",
    "- Include a list of packages you expect to use for you project. If you plan to use packages we have not used in class, add a very brief description about them (a few words is sufficient). "
   ]
  },
  {
   "cell_type": "markdown",
   "metadata": {},
   "source": [
    "*Fill in your proposed methods information here:*\n",
    "\n",
    "*Data Cleaning (2-3 sentences)*\n",
    "\n",
    "    In our Incidents-100k data we have data for all incidents. We only care about the data related to DUI incidents. Therefore, we will use Pandas to filter for only 'DUI' related strings withing the incidents column. Filtering out rows and columns that are needed for our tests/data analysis. \n",
    "\n",
    "*Data Analysis (1-2 paragraphs)*\n",
    "    \n",
    "    We want to do a linear regression on dui arrests and traffic collision data, and see if we can plot some sort of trend over the 8 year period our data sets cover. From the results of the regression we will use the correlation coefficient to create a predictive model about expected future DUI incidents.\n",
    "    \n",
    "    We will also use geospatial tools to calculate the average distance between drinking hotspots and arrest locations to see how quickly police track down drunk drivers. We will use alcahol permit data and geospatial tools to verify our choice of hotspot as a origin for drivers under the influence.\n",
    "    \n",
    "    We will combine all this data into a grid mapped over the San Diego area. Each grid square will have a # of crashes, # of arrests, a ratio between crash and arrests, and # of alcohol permits in the area. This will tell us in which areas police are effectively catching drunk drivers, which areas drunk drivers are most likely to crash, and how far these areas are from hot zones for alcohol consumption. We will also measure change of the ratio over time due to our data collected over multiple years.\n",
    "\n",
    "*What to report (2-3 sentences)*\n",
    "\n",
    "    There are 4 situations we would report in terms of the relationship between DUI arrests and crashes. The first two situations mean a positive correlation. If arrests and crashes increase that means that the number of drunk drivers increases. If arrests and crashes decreases, then number of drunk drivers decreases. The next two relationships mean a negative correlation between our two variables. If arrests increase and crashes decrease, that means the police are doing a better job at catching drunk drivers. If arrests decrease and crashes increase that the police are doing a worse job at catching drunk drivers or drunk drivers. Obviously these cannot be blanket statements of causation but they do express correlation. Our ratios for each area will give us insight into these relationships.\n",
    "    \n",
    "    We will also be reporting the distance that drunk drivers are on the road before being pulled over by a cop. This will be based on our geospatial data of alcohol hotspots and the location of arrest.\n",
    "    \n",
    "\n",
    "Packages we plan to use:\n",
    "- pandas     : data frame management, data cleaning \n",
    "- numpy      : mean/sd/median/range/array manipulation/OLS  \n",
    "- pygeocoder : geocoding/reverse geocoding\n",
    "- matplotlib : plotting/clustering\n",
    "- sklearn    : kmeans/kmeans2\n",
    "- scipy      : whiten/kmeans2/clustering"
   ]
  },
  {
   "cell_type": "markdown",
   "metadata": {},
   "source": [
    "### Discussion\n",
    "\n",
    "What are the pitfalls and potential confounds of your data and/or methods? For example, how might biases in your data sources or analyses influence your interpretations? What will you do if you methods don't work and/or your hypotheses are wrong?\n",
    "\n",
    "(2-3 paragraphs)\n",
    "  \n",
    "\n"
   ]
  },
  {
   "cell_type": "markdown",
   "metadata": {},
   "source": [
    "*Fill in your discussion information here*"
   ]
  },
  {
   "cell_type": "markdown",
   "metadata": {},
   "source": [
    "One main pitfall in our research will be able to account those who drive under the influence who are neither caught nor in a crash because there is no way of recording their existence wihtout privacy and ethical issues. For our purposes, we are measuring the total amount of drunk drivers on the road are those who are either caught or end up in a crash.\n",
    "\n",
    "One bias we have in our study is that we assume drunk drivers are coming from places with alcohol permits. Seeing that most bars are in the Pacific Beach area, we assume that most drunk drivers are coming from that area to measure how long drunk drivers are on the road before cops catch them. We are trying to minimize this bias by using locations of alcohol permits to show that PB is a alcohol hotspot. However, it is quite possible that drunk drivers can be driving from another locations. Drivers may also be simply buying from a place that sells alcohol and not necessarily consuming in that area.\n",
    "\n",
    "If our hypotheses turn out wrong we will conclude that we did not find any statistically significant evidence that people are more socially aware of DUI consequences due to an increase in DUI arrests. If our methods do not work we will expand our data sets to a larger geographical area. As of now, we are only looking at data in the San Diego area which may cut us off from any state or national data sets. If we find a lack of data for just San Diego, we will explore these larger data sets."
   ]
  },
  {
   "cell_type": "code",
   "execution_count": null,
   "metadata": {
    "collapsed": true
   },
   "outputs": [],
   "source": []
  },
  {
   "cell_type": "code",
   "execution_count": null,
   "metadata": {
    "collapsed": true
   },
   "outputs": [],
   "source": []
  }
 ],
 "metadata": {
  "kernelspec": {
   "display_name": "Python 3",
   "language": "python",
   "name": "python3"
  },
  "language_info": {
   "codemirror_mode": {
    "name": "ipython",
    "version": 3
   },
   "file_extension": ".py",
   "mimetype": "text/x-python",
   "name": "python",
   "nbconvert_exporter": "python",
   "pygments_lexer": "ipython3",
   "version": "3.6.0"
  }
 },
 "nbformat": 4,
 "nbformat_minor": 2
}
