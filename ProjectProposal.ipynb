{
 "cells": [
  {
   "cell_type": "markdown",
   "metadata": {},
   "source": [
    "# COGS 108 - Assignment 4: Project Proposal"
   ]
  },
  {
   "cell_type": "markdown",
   "metadata": {},
   "source": [
    "## Important\n",
    "\n",
    "- Make sure all group member (3-5 people) are listed in the group members section.\n",
    "- ONE, and only one, member of your group should upload this notebook to TritonED. \n",
    "- Each member of the group will receive the same grade on this assignment. \n",
    "- Keep the file name the same: submit the file 'A4_ProjectProposal.ipynb'"
   ]
  },
  {
   "cell_type": "markdown",
   "metadata": {},
   "source": [
    "## Overview"
   ]
  },
  {
   "cell_type": "markdown",
   "metadata": {},
   "source": [
    "Read the project description, and detailed instructions for this assignment, in the 'A4_ProjectOutlineAndProposal' pdf."
   ]
  },
  {
   "cell_type": "markdown",
   "metadata": {},
   "source": [
    "## Group Members: Fill in the Student ID's of each group member here\n",
    "- A12935659\n",
    "- A13208362\n",
    "- A12023175"
   ]
  },
  {
   "cell_type": "markdown",
   "metadata": {},
   "source": [
    "### Research Question\n",
    "\n",
    "What is your research question? (1-2 sentences)"
   ]
  },
  {
   "cell_type": "markdown",
   "metadata": {},
   "source": [
    "*Fill in your research question here*\n",
    "Are bus routes/stops in the the downtown City of San Diego optimized in terms of location and popularity?"
   ]
  },
  {
   "cell_type": "markdown",
   "metadata": {},
   "source": [
    "### Hypothesis\n",
    "\n",
    "What is your prediction (2-3 sentences)"
   ]
  },
  {
   "cell_type": "markdown",
   "metadata": {},
   "source": [
    "*Fill in your hypotheses here*\n",
    "Bus routes currently are inneficient in downtown as they do not drop off close to where people are actually intending to be. This has occured because hot spots of downtown can fluctuate while bus stop locations stay fixed in place."
   ]
  },
  {
   "cell_type": "markdown",
   "metadata": {},
   "source": [
    "### Dataset(s)\n",
    "\n",
    "What data will you use to answer your question? Describe the dataset in terms of number of observations, what kind of features it contains, etc. You must use at least one dataset containing at least approximately 1000 observations (if your data are smaller but you feel they are sufficient, email Prof. Voytek). You are welcome (and in fact recommended) to find multiple datasets! If you do so, describe each one, and briefly explain how you will combine them together. "
   ]
  },
  {
   "cell_type": "markdown",
   "metadata": {},
   "source": [
    "*Fill in your dataset information here*\n",
    "\n",
    "- Dataset Name: Parking meter transactions for Downtown San Diego.\n",
    "- Link to the dataset: https://data.sandiego.gov/stories/parking-meters/\n",
    "- Number of observations: 1.04M obserations\n",
    "\n",
    "1-2 sentences describing the dataset. \n",
    "\n",
    "- Dataset Name: google_transit (contains multiple data sets about SDMTS)\n",
    "- Link to the dataset: https://www.sdmts.com/business-center/developers\n",
    "- Number of observations: 20,000 in trips.txt\n",
    "\n",
    "1-2 sentences describing the dataset.\n",
    "\n",
    "- Dataset Name: traffic-volumes of City of San Diego\n",
    "- Link to the dataset:https://data.sandiego.gov/datasets/traffic-volumes/\n",
    "- Number of observations: 12,000\n",
    "\n",
    "If you plan to use multiple datasets, add 1-2 sentences about how you plan to combine these datasets.\n",
    "    \n",
    "    We will use the parking meter transactions and a traffic-volume data to find our hot spots of downtown San Diego. We will then use the SDMTS data to fine bus stop locationg as well as popularity of those bus stops to see if they are even being used currently despite location from hot spot."
   ]
  },
  {
   "cell_type": "markdown",
   "metadata": {},
   "source": [
    "### Background & Prior Work\n",
    "\n",
    "Why is this question of interest, what background information led you to your hypothesis, and why is this important?\n",
    "\n",
    "Find some relevant prior work, and reference them. Even if you think you have a totally novel question, find the most similar prior work you can, and discuss how it relates to your project. \n",
    "\n",
    "References can be research publications, but they need not be: blogs, github repositories, company websites, etc., are viable references if they are relevant to your project.\n",
    "\n",
    "(2-3 paragraphs, including at least 2 references)"
   ]
  },
  {
   "cell_type": "markdown",
   "metadata": {},
   "source": [
    "*Fill in your background and prior work here* \n",
    "\n",
    "    The City of San Diego has a major traffic problem. Every weekday after 6:30pm there is gridlocked traffic going southbound towards Downtown. This is a huge issue with a multitude of variables. We decided to focus on bus stops in Downtown to help alleviate this problem. The idea is that if the bus stops in downtown San Diego were more optimized, then people would be more inclined to take the bus routes thus leaving more space on the roads.\n",
    "    \n",
    "    The San Diego Union Tribune reports that multiple cities in CAlifornia are fighting a bill that puts the future building of roads and trolley networks in the hands of the State. These cities in San Diego are worried that they will not have a voice in SANDAG. Parties may be worried that decision with transport may be made with politics in mind. However, our data will help make decisions for the public good with tangible data in mind.\n",
    "    \n",
    "Referencess (include a link):\n",
    "- 1) http://www.thedailybeast.com/articles/2010/01/19/americas-75-worst-commutes\n",
    "- 2) http://www.sandiegouniontribune.com/news/politics/sd-me-sandag-overhaul-20170515-story.html"
   ]
  },
  {
   "cell_type": "markdown",
   "metadata": {},
   "source": [
    "### Proposed Methods\n",
    "\n",
    "What methods will you use to analyze your data?\n",
    "\n",
    "- How 'clean' is the data? To the extent that it requires cleaning, how will you do so?\n",
    "- How will you analyze the data? Be as specific as you can. Briefly mention any pre-processing steps that are required for your methods (for example, checking data distributions and performing any transformations that may be required). Include a brief outline of how you will apply your chosen method(s). \n",
    "- What do you plan to report? Briefly mention any key visualizations you plan to create, and/or the kind of result you will be able to report that addresses your question (this could be, for example, the outcome of some statistical test(s), prediction error on a model, a model fit parameter, etc.).\n",
    "- Include a list of packages you expect to use for you project. If you plan to use packages we have not used in class, add a very brief description about them (a few words is sufficient). "
   ]
  },
  {
   "cell_type": "markdown",
   "metadata": {},
   "source": [
    "*Fill in your proposed methods information here:*\n",
    "\n",
    "*Data Cleaning (2-3 sentences)*\n",
    "\n",
    "    All of the data sets we are working with were collected from MTS SD and the SD city website. All Data sets are in the form of txt files which can be easily converted to CSV's and loaded into data frames or dictionaries in Python or R.\n",
    "\n",
    "*Data Analysis (1-2 paragraphs)*\n",
    "\n",
    "    We need a way to verify the popularity of an area in downtown. This is done through linear regression showing a correlation between trafic volumes and parking meter usage. Popular areas would have both high traffic and high parking meter usage, so we would be looking for a positive correlation.\n",
    "\n",
    "    Once we have verified our hot spots we will create a hotspot map of downtown on which we will plot bus stops onto to see where bus stops are located relative to these hot spot centers. If we look at these relative distance we can also see if distance from hotspot has had an effect on the popularity of the bus route based on Bus Transaction data for a specific route through a bus spot.\n",
    "\n",
    "*What to report (2-3 sentences)*\n",
    "\n",
    "    We will report the distance between a hotspot and a bus stop. By look at these results we may be able to propose where bus stops are wasting their time stopping and where they should stop instead.\n",
    "\n",
    "Packages we plan to use:\n",
    "- matplotlib (heatmap)\n",
    "- pandas"
   ]
  },
  {
   "cell_type": "markdown",
   "metadata": {},
   "source": [
    "### Discussion\n",
    "\n",
    "What are the pitfalls and potential confounds of your data and/or methods? For example, how might biases in your data sources or analyses influence your interpretations? What will you do if you methods don't work and/or your hypotheses are wrong?\n",
    "\n",
    "(2-3 paragraphs)\n",
    "  \n",
    "\n"
   ]
  },
  {
   "cell_type": "markdown",
   "metadata": {},
   "source": [
    "*Fill in your discussion information here*\n",
    "    The linear regression could show that our geospatial heatmap of parking meters may not actually correspond to high traffic areas, in which case we could not give as much weight to meter locations as good points of comparison for where bus stops should be. In that case, we could simply use the traffic volume data from San Diego's public dataset but this would be more difficult to parse since all the traffic counts are identified by street name.\n",
    "\n",
    "    There could also be confounds in the data where a single street has very few parking meters while others have several, giving more accurate reads of usage for the densely populated streets than the less metered streets."
   ]
  }
 ],
 "metadata": {
  "kernelspec": {
   "display_name": "Python 3",
   "language": "python",
   "name": "python3"
  },
  "language_info": {
   "codemirror_mode": {
    "name": "ipython",
    "version": 3
   },
   "file_extension": ".py",
   "mimetype": "text/x-python",
   "name": "python",
   "nbconvert_exporter": "python",
   "pygments_lexer": "ipython3",
   "version": "3.6.0"
  }
 },
 "nbformat": 4,
 "nbformat_minor": 2
}
